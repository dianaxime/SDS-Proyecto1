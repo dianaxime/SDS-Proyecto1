{
 "cells": [
  {
   "cell_type": "code",
   "execution_count": 1,
   "id": "e9ef495b",
   "metadata": {},
   "outputs": [],
   "source": [
    "import pandas as pd\n",
    "import numpy as np\n",
    "import matplotlib.pyplot as plt\n",
    "import seaborn as sns\n",
    "%matplotlib inline\n",
    "\n",
    "import sklearn\n",
    "from sklearn import metrics, model_selection, tree\n",
    "from sklearn.ensemble import GradientBoostingClassifier\n",
    "import joblib\n",
    "from sklearn.model_selection import cross_val_score\n",
    "from sklearn.model_selection import RepeatedKFold\n",
    "from sklearn.model_selection import KFold\n",
    "from statistics import mean"
   ]
  },
  {
   "cell_type": "code",
   "execution_count": 2,
   "id": "7e32207e",
   "metadata": {},
   "outputs": [],
   "source": [
    "# Train data\n",
    "X_train = pd.read_csv('x_train.csv').to_numpy()\n",
    "y_train = pd.read_csv('y_train.csv')\n",
    "y_train = y_train['LABEL']\n",
    "\n",
    "# Test data\n",
    "X_test = pd.read_csv('x_test.csv').to_numpy()\n",
    "y_test = pd.read_csv('y_test.csv')\n",
    "y_test = y_test['LABEL']\n",
    "\n",
    "# Validation data\n",
    "X_validation = pd.read_csv('x_validation.csv').to_numpy()\n",
    "y_validation = pd.read_csv('y_validation.csv')\n",
    "y_validation = y_validation['LABEL']"
   ]
  },
  {
   "cell_type": "code",
   "execution_count": 3,
   "id": "4af5f08f",
   "metadata": {},
   "outputs": [],
   "source": [
    "clf = GradientBoostingClassifier(n_estimators=100, learning_rate=1.0, max_depth=1, random_state=7)"
   ]
  },
  {
   "cell_type": "code",
   "execution_count": 4,
   "id": "7923b4f3",
   "metadata": {},
   "outputs": [
    {
     "data": {
      "text/plain": [
       "GradientBoostingClassifier(learning_rate=1.0, max_depth=1, random_state=7)"
      ]
     },
     "execution_count": 4,
     "metadata": {},
     "output_type": "execute_result"
    }
   ],
   "source": [
    "clf.fit(X_train, y_train)"
   ]
  },
  {
   "cell_type": "markdown",
   "id": "3358f65b",
   "metadata": {},
   "source": [
    "#### Validation data"
   ]
  },
  {
   "cell_type": "code",
   "execution_count": 5,
   "id": "9bedb0af",
   "metadata": {},
   "outputs": [
    {
     "data": {
      "text/plain": [
       "0.9999227745273617"
      ]
     },
     "execution_count": 5,
     "metadata": {},
     "output_type": "execute_result"
    }
   ],
   "source": [
    "clf.score(X_validation, y_validation)"
   ]
  },
  {
   "cell_type": "code",
   "execution_count": 6,
   "id": "d3bd85ee",
   "metadata": {},
   "outputs": [],
   "source": [
    "pred_validation = clf.predict(X_validation)"
   ]
  },
  {
   "cell_type": "code",
   "execution_count": 7,
   "id": "17dec065",
   "metadata": {},
   "outputs": [
    {
     "name": "stdout",
     "output_type": "stream",
     "text": [
      "0.9999227745273617\n",
      "Matriz de confusion [[68451    10     3     1]\n",
      " [    7 64954     0     0]\n",
      " [    0     0 92344     0]\n",
      " [    0     0     0 46161]]\n",
      "              precision    recall  f1-score   support\n",
      "\n",
      "           0       1.00      1.00      1.00     68465\n",
      "           1       1.00      1.00      1.00     64961\n",
      "           2       1.00      1.00      1.00     92344\n",
      "           3       1.00      1.00      1.00     46161\n",
      "\n",
      "    accuracy                           1.00    271931\n",
      "   macro avg       1.00      1.00      1.00    271931\n",
      "weighted avg       1.00      1.00      1.00    271931\n",
      "\n"
     ]
    }
   ],
   "source": [
    "print(metrics.accuracy_score(y_validation, pred_validation))\n",
    "print('Matriz de confusion', metrics.confusion_matrix(y_validation, pred_validation))\n",
    "print(metrics.classification_report(y_validation, pred_validation, target_names=['0', '1', '2', '3']))"
   ]
  },
  {
   "cell_type": "markdown",
   "id": "78a9f3fa",
   "metadata": {},
   "source": [
    "#### Test data"
   ]
  },
  {
   "cell_type": "code",
   "execution_count": 8,
   "id": "979e49e2",
   "metadata": {},
   "outputs": [
    {
     "data": {
      "text/plain": [
       "0.9999021916319507"
      ]
     },
     "execution_count": 8,
     "metadata": {},
     "output_type": "execute_result"
    }
   ],
   "source": [
    "clf.score(X_test, y_test)"
   ]
  },
  {
   "cell_type": "code",
   "execution_count": 9,
   "id": "49eb404b",
   "metadata": {},
   "outputs": [],
   "source": [
    "pred = clf.predict(X_test)"
   ]
  },
  {
   "cell_type": "code",
   "execution_count": 10,
   "id": "78ff4c03",
   "metadata": {},
   "outputs": [
    {
     "name": "stdout",
     "output_type": "stream",
     "text": [
      "0.9999021916319507\n",
      "Matriz de confusion [[138522     21      5      1]\n",
      " [    26 133267      0      0]\n",
      " [     0      0 187447      0]\n",
      " [     1      0      0  92810]]\n",
      "              precision    recall  f1-score   support\n",
      "\n",
      "           0       1.00      1.00      1.00    138549\n",
      "           1       1.00      1.00      1.00    133293\n",
      "           2       1.00      1.00      1.00    187447\n",
      "           3       1.00      1.00      1.00     92811\n",
      "\n",
      "    accuracy                           1.00    552100\n",
      "   macro avg       1.00      1.00      1.00    552100\n",
      "weighted avg       1.00      1.00      1.00    552100\n",
      "\n"
     ]
    }
   ],
   "source": [
    "print(metrics.accuracy_score(y_test, pred))\n",
    "print('Matriz de confusion', metrics.confusion_matrix(y_test, pred))\n",
    "print(metrics.classification_report(y_test, pred, target_names=['0', '1', '2', '3']))"
   ]
  },
  {
   "cell_type": "code",
   "execution_count": 11,
   "id": "63f24c36",
   "metadata": {},
   "outputs": [],
   "source": [
    "# metrics.plot_roc_curve(clf, X_test, y_test)\n",
    "# plt.show()"
   ]
  },
  {
   "cell_type": "code",
   "execution_count": 12,
   "id": "b1a47199",
   "metadata": {},
   "outputs": [
    {
     "data": {
      "text/plain": [
       "['modelo1_v2.h5']"
      ]
     },
     "execution_count": 12,
     "metadata": {},
     "output_type": "execute_result"
    }
   ],
   "source": [
    "joblib.dump(clf, 'modelo1.h5')"
   ]
  },
  {
   "cell_type": "code",
   "execution_count": 13,
   "id": "86030530",
   "metadata": {},
   "outputs": [],
   "source": [
    "# Extraido de: https://stackoverflow.com/questions/45332410/roc-for-multiclass-classification\n",
    "def plot_multiclass_roc(clf, X_test, y_test, n_classes, figsize=(17, 6)):\n",
    "    y_score = clf.decision_function(X_test)\n",
    "\n",
    "    # structures\n",
    "    fpr = dict()\n",
    "    tpr = dict()\n",
    "    roc_auc = dict()\n",
    "\n",
    "    # calculate dummies once\n",
    "    y_test_dummies = pd.get_dummies(y_test, drop_first=False).values\n",
    "    for i in range(n_classes):\n",
    "        fpr[i], tpr[i], _ = metrics.roc_curve(y_test_dummies[:, i], y_score[:, i])\n",
    "        roc_auc[i] = metrics.auc(fpr[i], tpr[i])\n",
    "\n",
    "    # roc for each class\n",
    "    fig, ax = plt.subplots(figsize=figsize)\n",
    "    ax.plot([0, 1], [0, 1], color='navy', lw=2, linestyle='--')\n",
    "    ax.set_xlim([0.0, 1.0])\n",
    "    ax.set_ylim([0.0, 1.05])\n",
    "    ax.set_xlabel('False Positive Rate')\n",
    "    ax.set_ylabel('True Positive Rate')\n",
    "    ax.set_title('Receiver operating characteristic curves')\n",
    "    for i in range(n_classes):\n",
    "        ax.plot(fpr[i], tpr[i], label='ROC curve (area = %0.2f) for label %i' % (roc_auc[i], i))\n",
    "    ax.legend(loc=\"best\")\n",
    "    ax.grid(alpha=.4)\n",
    "    sns.despine()\n",
    "    plt.show()"
   ]
  },
  {
   "cell_type": "code",
   "execution_count": 14,
   "id": "b0c12aec",
   "metadata": {},
   "outputs": [
    {
     "data": {
      "image/png": "[encoded data removed]",
      "text/plain": [
       "<Figure size 1152x720 with 1 Axes>"
      ]
     },
     "metadata": {
      "needs_background": "light"
     },
     "output_type": "display_data"
    }
   ],
   "source": [
    "plot_multiclass_roc(clf, X_test, y_test, n_classes=4, figsize=(16, 10))"
   ]
  },
  {
   "cell_type": "markdown",
   "id": "cac17e66",
   "metadata": {},
   "source": [
    "### Cross Validation\n",
    "Fuente de consulta: https://machinelearningmastery.com/repeated-k-fold-cross-validation-with-python/"
   ]
  },
  {
   "cell_type": "code",
   "execution_count": 16,
   "id": "d9e0bb0b",
   "metadata": {},
   "outputs": [
    {
     "name": "stdout",
     "output_type": "stream",
     "text": [
      "[0.99989078 0.99992057 0.99996028 0.99995035 0.9997617  0.99988085\n",
      " 0.99990071 0.99991064 0.99974185 0.99997021]\n"
     ]
    }
   ],
   "source": [
    "rf_cv_score=cross_val_score(estimator=clf, X=X_train, y=y_train, cv=10, n_jobs=-1)\n",
    "print(rf_cv_score)"
   ]
  },
  {
   "cell_type": "code",
   "execution_count": 17,
   "id": "9d4dc407",
   "metadata": {},
   "outputs": [],
   "source": [
    "# prepare the cross-validation procedure\n",
    "cv = KFold(n_splits=10, random_state=1, shuffle=True)\n",
    "# evaluate model\n",
    "scores = cross_val_score(clf, X_train, y_train, scoring='accuracy', cv=cv, n_jobs=-1)"
   ]
  },
  {
   "cell_type": "code",
   "execution_count": 18,
   "id": "4043b622",
   "metadata": {},
   "outputs": [
    {
     "name": "stdout",
     "output_type": "stream",
     "text": [
      "Accuracy: 1.000 (0.000)\n"
     ]
    }
   ],
   "source": [
    "# report performance\n",
    "print('Accuracy: %.3f (%.3f)' % (np.mean(scores), np.std(scores)))"
   ]
  },
  {
   "cell_type": "code",
   "execution_count": 19,
   "id": "7762b4e2",
   "metadata": {},
   "outputs": [
    {
     "name": "stdout",
     "output_type": "stream",
     "text": [
      "Train: [      0       2       3 ... 1007146 1007147 1007148] Validation: [      1       6      15 ... 1007125 1007126 1007134]\n",
      "Train: [      0       1       2 ... 1007146 1007147 1007148] Validation: [      8      46      55 ... 1007132 1007133 1007141]\n",
      "Train: [      0       1       3 ... 1007146 1007147 1007148] Validation: [      2       4      39 ... 1007102 1007105 1007109]\n",
      "Train: [      0       1       2 ... 1007146 1007147 1007148] Validation: [      3      13      16 ... 1007119 1007122 1007138]\n",
      "Train: [      0       1       2 ... 1007146 1007147 1007148] Validation: [     21      31      44 ... 1007097 1007110 1007142]\n",
      "Train: [      0       1       2 ... 1007143 1007146 1007148] Validation: [     11      26      43 ... 1007144 1007145 1007147]\n",
      "Train: [      0       1       2 ... 1007146 1007147 1007148] Validation: [     10      12      22 ... 1007130 1007139 1007143]\n",
      "Train: [      1       2       3 ... 1007146 1007147 1007148] Validation: [      0       5      17 ... 1007107 1007113 1007135]\n",
      "Train: [      0       1       2 ... 1007144 1007145 1007147] Validation: [      9      14      19 ... 1007137 1007146 1007148]\n",
      "Train: [      0       1       2 ... 1007146 1007147 1007148] Validation: [      7      32      38 ... 1007104 1007124 1007140]\n",
      "Train: [      0       2       3 ... 1007146 1007147 1007148] Validation: [      1      10      26 ... 1007128 1007134 1007140]\n",
      "Train: [      0       1       2 ... 1007146 1007147 1007148] Validation: [      7      30      46 ... 1007124 1007126 1007129]\n",
      "Train: [      0       1       2 ... 1007146 1007147 1007148] Validation: [      5      17      24 ... 1007115 1007135 1007138]\n",
      "Train: [      0       1       2 ... 1007146 1007147 1007148] Validation: [     19      36      39 ... 1007101 1007111 1007125]\n",
      "Train: [      0       1       2 ... 1007146 1007147 1007148] Validation: [     16      31      41 ... 1007123 1007131 1007142]\n",
      "Train: [      0       1       5 ... 1007145 1007146 1007148] Validation: [      2       3       4 ... 1007122 1007139 1007147]\n",
      "Train: [      0       1       2 ... 1007146 1007147 1007148] Validation: [     22      25      38 ... 1007127 1007137 1007143]\n",
      "Train: [      0       1       2 ... 1007143 1007147 1007148] Validation: [     13      18      21 ... 1007144 1007145 1007146]\n",
      "Train: [      0       1       2 ... 1007145 1007146 1007147] Validation: [     14      20      32 ... 1007133 1007136 1007148]\n",
      "Train: [      1       2       3 ... 1007146 1007147 1007148] Validation: [      0       6       8 ... 1007095 1007105 1007121]\n",
      "Train: [      0       1       2 ... 1007145 1007146 1007147] Validation: [     22      37      42 ... 1007124 1007137 1007148]\n",
      "Train: [      0       1       2 ... 1007146 1007147 1007148] Validation: [      4       6       8 ... 1007136 1007138 1007145]\n",
      "Train: [      0       1       2 ... 1007145 1007147 1007148] Validation: [     10      12      14 ... 1007126 1007129 1007146]\n",
      "Train: [      0       1       2 ... 1007145 1007146 1007148] Validation: [     34      49      56 ... 1007139 1007141 1007147]\n",
      "Train: [      0       2       3 ... 1007146 1007147 1007148] Validation: [      1      11      40 ... 1007070 1007088 1007096]\n",
      "Train: [      0       1       2 ... 1007146 1007147 1007148] Validation: [      3      20      50 ... 1007105 1007134 1007140]\n",
      "Train: [      1       3       4 ... 1007146 1007147 1007148] Validation: [      0       2       7 ... 1007125 1007128 1007133]\n",
      "Train: [      0       1       2 ... 1007146 1007147 1007148] Validation: [     24      60      62 ... 1007130 1007142 1007144]\n",
      "Train: [      0       1       2 ... 1007146 1007147 1007148] Validation: [      5      26      39 ... 1007101 1007119 1007143]\n",
      "Train: [      0       1       2 ... 1007146 1007147 1007148] Validation: [     18      30      33 ... 1007113 1007117 1007132]\n",
      "Train: [      0       1       2 ... 1007146 1007147 1007148] Validation: [     12      67      70 ... 1007128 1007130 1007135]\n",
      "Train: [      0       1       2 ... 1007146 1007147 1007148] Validation: [     11      30      40 ... 1007092 1007116 1007121]\n",
      "Train: [      0       1       2 ... 1007146 1007147 1007148] Validation: [     10      22      24 ... 1007136 1007137 1007143]\n",
      "Train: [      0       1       2 ... 1007146 1007147 1007148] Validation: [      3      18      33 ... 1007126 1007139 1007145]\n",
      "Train: [      1       2       3 ... 1007145 1007146 1007148] Validation: [      0       4       6 ... 1007119 1007144 1007147]\n",
      "Train: [      0       1       2 ... 1007145 1007147 1007148] Validation: [     21      23      37 ... 1007129 1007138 1007146]\n",
      "Train: [      0       1       2 ... 1007145 1007146 1007147] Validation: [      9      13      28 ... 1007118 1007122 1007148]\n",
      "Train: [      0       1       3 ... 1007146 1007147 1007148] Validation: [      2       7       8 ... 1007090 1007112 1007131]\n",
      "Train: [      0       2       3 ... 1007146 1007147 1007148] Validation: [      1       5      14 ... 1007134 1007140 1007142]\n",
      "Train: [      0       1       2 ... 1007146 1007147 1007148] Validation: [     17      20      27 ... 1007132 1007133 1007141]\n",
      "Train: [      0       1       2 ... 1007146 1007147 1007148] Validation: [     14      19      26 ... 1007115 1007123 1007135]\n",
      "Train: [      0       1       2 ... 1007146 1007147 1007148] Validation: [     13      28      37 ... 1007095 1007113 1007117]\n",
      "Train: [      0       2       3 ... 1007146 1007147 1007148] Validation: [      1       8      17 ... 1007104 1007114 1007120]\n",
      "Train: [      1       2       4 ... 1007146 1007147 1007148] Validation: [      0       3      29 ... 1007132 1007133 1007139]\n",
      "Train: [      0       1       3 ... 1007145 1007146 1007147] Validation: [      2       5       7 ... 1007137 1007138 1007148]\n",
      "Train: [      0       1       2 ... 1007146 1007147 1007148] Validation: [     12      18      35 ... 1007134 1007141 1007143]\n",
      "Train: [      0       1       2 ... 1007144 1007146 1007148] Validation: [      6      11      41 ... 1007127 1007145 1007147]\n",
      "Train: [      0       1       2 ... 1007146 1007147 1007148] Validation: [     16      25      32 ... 1007101 1007116 1007140]\n",
      "Train: [      0       1       2 ... 1007145 1007147 1007148] Validation: [     21      22      31 ... 1007119 1007124 1007146]\n",
      "Train: [      0       1       2 ... 1007146 1007147 1007148] Validation: [      4      23      30 ... 1007136 1007142 1007144]\n"
     ]
    }
   ],
   "source": [
    "kf = RepeatedKFold(n_splits=10, n_repeats=5, random_state=None) \n",
    "\n",
    "for train_index, test_index in kf.split(X_train):\n",
    "      print(\"Train:\", train_index, \"Validation:\",test_index)\n",
    "      x_train, x_test = X_train[train_index], X_train[test_index] \n",
    "      Y_train, Y_test = y_train[train_index], y_train[test_index]"
   ]
  },
  {
   "cell_type": "code",
   "execution_count": 20,
   "id": "51500b13",
   "metadata": {},
   "outputs": [
    {
     "name": "stdout",
     "output_type": "stream",
     "text": [
      "[ 100715  100716  100717 ... 1007146 1007147 1007148] [     0      1      2 ... 100712 100713 100714]\n",
      "[      0       1       2 ... 1007146 1007147 1007148] [100715 100716 100717 ... 201427 201428 201429]\n",
      "[      0       1       2 ... 1007146 1007147 1007148] [201430 201431 201432 ... 302142 302143 302144]\n",
      "[      0       1       2 ... 1007146 1007147 1007148] [302145 302146 302147 ... 402857 402858 402859]\n",
      "[      0       1       2 ... 1007146 1007147 1007148] [402860 402861 402862 ... 503572 503573 503574]\n",
      "[      0       1       2 ... 1007146 1007147 1007148] [503575 503576 503577 ... 604287 604288 604289]\n",
      "[      0       1       2 ... 1007146 1007147 1007148] [604290 604291 604292 ... 705002 705003 705004]\n",
      "[      0       1       2 ... 1007146 1007147 1007148] [705005 705006 705007 ... 805717 805718 805719]\n",
      "[      0       1       2 ... 1007146 1007147 1007148] [805720 805721 805722 ... 906432 906433 906434]\n",
      "[     0      1      2 ... 906432 906433 906434] [ 906435  906436  906437 ... 1007146 1007147 1007148]\n"
     ]
    }
   ],
   "source": [
    "kf = KFold(n_splits=10)\n",
    "for train, test in kf.split(X_train):\n",
    "    print(\"%s %s\" % (train, test))"
   ]
  },
  {
   "cell_type": "code",
   "execution_count": null,
   "id": "1815c375",
   "metadata": {},
   "outputs": [],
   "source": []
  }
 ],
 "metadata": {
  "kernelspec": {
   "display_name": "Python 3 (ipykernel)",
   "language": "python",
   "name": "python3"
  },
  "language_info": {
   "codemirror_mode": {
    "name": "ipython",
    "version": 3
   },
   "file_extension": ".py",
   "mimetype": "text/x-python",
   "name": "python",
   "nbconvert_exporter": "python",
   "pygments_lexer": "ipython3",
   "version": "3.9.10"
  }
 },
 "nbformat": 4,
 "nbformat_minor": 5
}
