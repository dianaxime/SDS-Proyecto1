{
 "cells": [
  {
   "cell_type": "code",
   "execution_count": 1,
   "id": "e9ef495b",
   "metadata": {},
   "outputs": [],
   "source": [
    "import pandas as pd\n",
    "import numpy as np\n",
    "import matplotlib.pyplot as plt\n",
    "import seaborn as sns\n",
    "%matplotlib inline\n",
    "\n",
    "import sklearn\n",
    "from sklearn import metrics, model_selection, tree\n",
    "from sklearn.ensemble import GradientBoostingClassifier\n",
    "import joblib\n",
    "from sklearn.model_selection import cross_val_score\n",
    "from sklearn.model_selection import RepeatedKFold\n",
    "from sklearn.model_selection import KFold\n",
    "from statistics import mean"
   ]
  },
  {
   "cell_type": "code",
   "execution_count": 2,
   "id": "7e32207e",
   "metadata": {},
   "outputs": [],
   "source": [
    "# Train data\n",
    "X_train = pd.read_csv('x_train_smote_undersample.csv').to_numpy()\n",
    "y_train = pd.read_csv('y_train_smote_undersample.csv')\n",
    "y_train = y_train['LABEL']\n",
    "\n",
    "# Test data\n",
    "X_test = pd.read_csv('x_test_smote_undersample.csv').to_numpy()\n",
    "y_test = pd.read_csv('y_test_smote_undersample.csv')\n",
    "y_test = y_test['LABEL']\n",
    "\n",
    "# Validation data\n",
    "X_validation = pd.read_csv('x_validation_smote_undersample.csv').to_numpy()\n",
    "y_validation = pd.read_csv('y_validation_smote_undersample.csv')\n",
    "y_validation = y_validation['LABEL']"
   ]
  },
  {
   "cell_type": "code",
   "execution_count": 3,
   "id": "4af5f08f",
   "metadata": {},
   "outputs": [],
   "source": [
    "clf = GradientBoostingClassifier(n_estimators=100, learning_rate=1.0, max_depth=1, random_state=7)"
   ]
  },
  {
   "cell_type": "code",
   "execution_count": 4,
   "id": "7923b4f3",
   "metadata": {},
   "outputs": [
    {
     "data": {
      "text/plain": [
       "GradientBoostingClassifier(learning_rate=1.0, max_depth=1, random_state=7)"
      ]
     },
     "execution_count": 4,
     "metadata": {},
     "output_type": "execute_result"
    }
   ],
   "source": [
    "clf.fit(X_train, y_train)"
   ]
  },
  {
   "cell_type": "markdown",
   "id": "3358f65b",
   "metadata": {},
   "source": [
    "#### Validation data"
   ]
  },
  {
   "cell_type": "code",
   "execution_count": 5,
   "id": "9bedb0af",
   "metadata": {},
   "outputs": [
    {
     "data": {
      "text/plain": [
       "0.8848310784721124"
      ]
     },
     "execution_count": 5,
     "metadata": {},
     "output_type": "execute_result"
    }
   ],
   "source": [
    "clf.score(X_validation, y_validation)"
   ]
  },
  {
   "cell_type": "code",
   "execution_count": 6,
   "id": "d3bd85ee",
   "metadata": {},
   "outputs": [],
   "source": [
    "pred_validation = clf.predict(X_validation)"
   ]
  },
  {
   "cell_type": "code",
   "execution_count": 7,
   "id": "17dec065",
   "metadata": {},
   "outputs": [
    {
     "name": "stdout",
     "output_type": "stream",
     "text": [
      "0.8848310784721124\n",
      "Matriz de confusion [[136296     79   2497   7546]\n",
      " [    16  55556      1     34]\n",
      " [  2899      0  29562  18246]\n",
      " [     0      0      0  19199]]\n",
      "              precision    recall  f1-score   support\n",
      "\n",
      "           0       0.98      0.93      0.95    146418\n",
      "           1       1.00      1.00      1.00     55607\n",
      "           2       0.92      0.58      0.71     50707\n",
      "           3       0.43      1.00      0.60     19199\n",
      "\n",
      "    accuracy                           0.88    271931\n",
      "   macro avg       0.83      0.88      0.82    271931\n",
      "weighted avg       0.93      0.88      0.89    271931\n",
      "\n"
     ]
    }
   ],
   "source": [
    "print(metrics.accuracy_score(y_validation, pred_validation))\n",
    "print('Matriz de confusion', metrics.confusion_matrix(y_validation, pred_validation))\n",
    "print(metrics.classification_report(y_validation, pred_validation, target_names=['0', '1', '2', '3']))"
   ]
  },
  {
   "cell_type": "markdown",
   "id": "78a9f3fa",
   "metadata": {},
   "source": [
    "#### Test data"
   ]
  },
  {
   "cell_type": "code",
   "execution_count": 8,
   "id": "979e49e2",
   "metadata": {},
   "outputs": [
    {
     "data": {
      "text/plain": [
       "0.8854319869588843"
      ]
     },
     "execution_count": 8,
     "metadata": {},
     "output_type": "execute_result"
    }
   ],
   "source": [
    "clf.score(X_test, y_test)"
   ]
  },
  {
   "cell_type": "code",
   "execution_count": 9,
   "id": "49eb404b",
   "metadata": {},
   "outputs": [],
   "source": [
    "pred = clf.predict(X_test)"
   ]
  },
  {
   "cell_type": "code",
   "execution_count": 10,
   "id": "78ff4c03",
   "metadata": {},
   "outputs": [
    {
     "name": "stdout",
     "output_type": "stream",
     "text": [
      "0.8854319869588843\n",
      "Matriz de confusion [[276634    139   4740  15116]\n",
      " [    23 112711      0     85]\n",
      " [  5858      0  60290  37292]\n",
      " [     0      0      0  39212]]\n",
      "              precision    recall  f1-score   support\n",
      "\n",
      "           0       0.98      0.93      0.96    296629\n",
      "           1       1.00      1.00      1.00    112819\n",
      "           2       0.93      0.58      0.72    103440\n",
      "           3       0.43      1.00      0.60     39212\n",
      "\n",
      "    accuracy                           0.89    552100\n",
      "   macro avg       0.83      0.88      0.82    552100\n",
      "weighted avg       0.93      0.89      0.89    552100\n",
      "\n"
     ]
    }
   ],
   "source": [
    "print(metrics.accuracy_score(y_test, pred))\n",
    "print('Matriz de confusion', metrics.confusion_matrix(y_test, pred))\n",
    "print(metrics.classification_report(y_test, pred, target_names=['0', '1', '2', '3']))"
   ]
  },
  {
   "cell_type": "code",
   "execution_count": 11,
   "id": "63f24c36",
   "metadata": {},
   "outputs": [],
   "source": [
    "# metrics.plot_roc_curve(clf, X_test, y_test)\n",
    "# plt.show()"
   ]
  },
  {
   "cell_type": "code",
   "execution_count": 12,
   "id": "b1a47199",
   "metadata": {},
   "outputs": [
    {
     "data": {
      "text/plain": [
       "['modelo1_v2.h5']"
      ]
     },
     "execution_count": 12,
     "metadata": {},
     "output_type": "execute_result"
    }
   ],
   "source": [
    "joblib.dump(clf, 'modelo1_v2.h5')"
   ]
  },
  {
   "cell_type": "code",
   "execution_count": 13,
   "id": "86030530",
   "metadata": {},
   "outputs": [],
   "source": [
    "# Extraido de: https://stackoverflow.com/questions/45332410/roc-for-multiclass-classification\n",
    "def plot_multiclass_roc(clf, X_test, y_test, n_classes, figsize=(17, 6)):\n",
    "    y_score = clf.decision_function(X_test)\n",
    "\n",
    "    # structures\n",
    "    fpr = dict()\n",
    "    tpr = dict()\n",
    "    roc_auc = dict()\n",
    "\n",
    "    # calculate dummies once\n",
    "    y_test_dummies = pd.get_dummies(y_test, drop_first=False).values\n",
    "    for i in range(n_classes):\n",
    "        fpr[i], tpr[i], _ = metrics.roc_curve(y_test_dummies[:, i], y_score[:, i])\n",
    "        roc_auc[i] = metrics.auc(fpr[i], tpr[i])\n",
    "\n",
    "    # roc for each class\n",
    "    fig, ax = plt.subplots(figsize=figsize)\n",
    "    ax.plot([0, 1], [0, 1], color='navy', lw=2, linestyle='--')\n",
    "    ax.set_xlim([0.0, 1.0])\n",
    "    ax.set_ylim([0.0, 1.05])\n",
    "    ax.set_xlabel('False Positive Rate')\n",
    "    ax.set_ylabel('True Positive Rate')\n",
    "    ax.set_title('Receiver operating characteristic curves')\n",
    "    for i in range(n_classes):\n",
    "        ax.plot(fpr[i], tpr[i], label='ROC curve (area = %0.2f) for label %i' % (roc_auc[i], i))\n",
    "    ax.legend(loc=\"best\")\n",
    "    ax.grid(alpha=.4)\n",
    "    sns.despine()\n",
    "    plt.show()"
   ]
  },
  {
   "cell_type": "code",
   "execution_count": 14,
   "id": "b0c12aec",
   "metadata": {},
   "outputs": [
    {
     "data": {
      "image/png": "[encoded data removed]",
      "text/plain": [
       "<Figure size 1152x720 with 1 Axes>"
      ]
     },
     "metadata": {
      "needs_background": "light"
     },
     "output_type": "display_data"
    }
   ],
   "source": [
    "plot_multiclass_roc(clf, X_test, y_test, n_classes=4, figsize=(16, 10))"
   ]
  },
  {
   "cell_type": "markdown",
   "id": "cac17e66",
   "metadata": {},
   "source": [
    "### Cross Validation\n",
    "Fuente de consulta: https://machinelearningmastery.com/repeated-k-fold-cross-validation-with-python/"
   ]
  },
  {
   "cell_type": "code",
   "execution_count": 15,
   "id": "d9e0bb0b",
   "metadata": {},
   "outputs": [
    {
     "name": "stdout",
     "output_type": "stream",
     "text": [
      "[0.88722633 0.88490294 0.88561783 0.88631286 0.88569726 0.88479372\n",
      " 0.88593556 0.88610435 0.88520081 0.88545783]\n"
     ]
    }
   ],
   "source": [
    "rf_cv_score=cross_val_score(estimator=clf, X=X_train, y=y_train, cv=10, n_jobs=-1)\n",
    "print(rf_cv_score)"
   ]
  },
  {
   "cell_type": "code",
   "execution_count": 16,
   "id": "9d4dc407",
   "metadata": {},
   "outputs": [],
   "source": [
    "# prepare the cross-validation procedure\n",
    "cv = KFold(n_splits=10, random_state=1, shuffle=True)\n",
    "# evaluate model\n",
    "scores = cross_val_score(clf, X_train, y_train, scoring='accuracy', cv=cv, n_jobs=-1)"
   ]
  },
  {
   "cell_type": "code",
   "execution_count": 17,
   "id": "4043b622",
   "metadata": {},
   "outputs": [
    {
     "name": "stdout",
     "output_type": "stream",
     "text": [
      "Accuracy: 0.886 (0.000)\n"
     ]
    }
   ],
   "source": [
    "# report performance\n",
    "print('Accuracy: %.3f (%.3f)' % (np.mean(scores), np.std(scores)))"
   ]
  },
  {
   "cell_type": "code",
   "execution_count": 18,
   "id": "7762b4e2",
   "metadata": {},
   "outputs": [
    {
     "name": "stdout",
     "output_type": "stream",
     "text": [
      "Train: [      0       1       2 ... 1007145 1007147 1007148] Validation: [     27      48      71 ... 1007111 1007117 1007146]\n",
      "Train: [      0       1       2 ... 1007146 1007147 1007148] Validation: [      8      24      26 ... 1007130 1007141 1007143]\n",
      "Train: [      0       1       2 ... 1007146 1007147 1007148] Validation: [      4      25      39 ... 1007133 1007142 1007144]\n",
      "Train: [      0       1       2 ... 1007146 1007147 1007148] Validation: [      6       7      10 ... 1007114 1007118 1007126]\n",
      "Train: [      0       1       2 ... 1007146 1007147 1007148] Validation: [      3      16      17 ... 1007132 1007134 1007139]\n",
      "Train: [      0       1       3 ... 1007146 1007147 1007148] Validation: [      2       9      14 ... 1007128 1007136 1007138]\n",
      "Train: [      0       1       2 ... 1007146 1007147 1007148] Validation: [     11      34      41 ... 1007108 1007115 1007122]\n",
      "Train: [      0       2       3 ... 1007145 1007146 1007148] Validation: [      1       5      19 ... 1007121 1007125 1007147]\n",
      "Train: [      0       1       2 ... 1007145 1007146 1007147] Validation: [     13      22      33 ... 1007123 1007140 1007148]\n",
      "Train: [      1       2       3 ... 1007146 1007147 1007148] Validation: [      0      12      37 ... 1007135 1007137 1007145]\n",
      "Train: [      0       1       2 ... 1007145 1007146 1007147] Validation: [     21      22      26 ... 1007135 1007139 1007148]\n",
      "Train: [      0       1       3 ... 1007145 1007147 1007148] Validation: [      2       8       9 ... 1007133 1007136 1007146]\n",
      "Train: [      0       2       4 ... 1007145 1007146 1007148] Validation: [      1       3      18 ... 1007125 1007132 1007147]\n",
      "Train: [      0       1       2 ... 1007146 1007147 1007148] Validation: [      4       7      15 ... 1007137 1007141 1007144]\n",
      "Train: [      1       2       3 ... 1007146 1007147 1007148] Validation: [      0       6      14 ... 1007120 1007129 1007145]\n",
      "Train: [      0       1       2 ... 1007146 1007147 1007148] Validation: [      5      12      50 ... 1007116 1007126 1007143]\n",
      "Train: [      0       1       2 ... 1007146 1007147 1007148] Validation: [     10      27      28 ... 1007121 1007130 1007138]\n",
      "Train: [      0       1       2 ... 1007146 1007147 1007148] Validation: [     20      29      31 ... 1007131 1007134 1007142]\n",
      "Train: [      0       1       2 ... 1007146 1007147 1007148] Validation: [     16      45      60 ... 1007071 1007075 1007108]\n",
      "Train: [      0       1       2 ... 1007146 1007147 1007148] Validation: [     11      17      19 ... 1007113 1007122 1007140]\n",
      "Train: [      0       1       2 ... 1007146 1007147 1007148] Validation: [     10      11      31 ... 1007105 1007117 1007124]\n",
      "Train: [      0       1       3 ... 1007145 1007146 1007147] Validation: [      2      17      19 ... 1007121 1007143 1007148]\n",
      "Train: [      1       2       3 ... 1007146 1007147 1007148] Validation: [      0       9      14 ... 1007119 1007120 1007132]\n",
      "Train: [      0       1       2 ... 1007146 1007147 1007148] Validation: [      4       7      12 ... 1007112 1007128 1007141]\n",
      "Train: [      0       2       3 ... 1007146 1007147 1007148] Validation: [      1       8      15 ... 1007135 1007139 1007145]\n",
      "Train: [      0       1       2 ... 1007146 1007147 1007148] Validation: [     20      22      26 ... 1007113 1007123 1007130]\n",
      "Train: [      0       1       2 ... 1007145 1007146 1007148] Validation: [     16      18      29 ... 1007138 1007142 1007147]\n",
      "Train: [      0       1       2 ... 1007146 1007147 1007148] Validation: [      5      56      70 ... 1007131 1007134 1007136]\n",
      "Train: [      0       1       2 ... 1007145 1007147 1007148] Validation: [      3      23      33 ... 1007140 1007144 1007146]\n",
      "Train: [      0       1       2 ... 1007146 1007147 1007148] Validation: [      6      32      34 ... 1007104 1007125 1007133]\n",
      "Train: [      1       2       3 ... 1007146 1007147 1007148] Validation: [      0      18      28 ... 1007125 1007131 1007142]\n",
      "Train: [      0       1       2 ... 1007144 1007145 1007147] Validation: [      8      11      14 ... 1007141 1007146 1007148]\n",
      "Train: [      0       1       2 ... 1007146 1007147 1007148] Validation: [     20      35      47 ... 1007084 1007088 1007132]\n",
      "Train: [      0       3       4 ... 1007146 1007147 1007148] Validation: [      1       2       9 ... 1007107 1007119 1007130]\n",
      "Train: [      0       1       2 ... 1007146 1007147 1007148] Validation: [      7      15      21 ... 1007113 1007144 1007145]\n",
      "Train: [      0       1       2 ... 1007145 1007146 1007148] Validation: [      6      17      24 ... 1007123 1007137 1007147]\n",
      "Train: [      0       1       2 ... 1007146 1007147 1007148] Validation: [      5      16      19 ... 1007133 1007134 1007143]\n",
      "Train: [      0       1       2 ... 1007146 1007147 1007148] Validation: [      3      10      23 ... 1007124 1007129 1007138]\n",
      "Train: [      0       1       2 ... 1007146 1007147 1007148] Validation: [     29      39      54 ... 1007128 1007139 1007140]\n",
      "Train: [      0       1       2 ... 1007146 1007147 1007148] Validation: [      4      36      53 ... 1007109 1007110 1007135]\n",
      "Train: [      0       1       2 ... 1007146 1007147 1007148] Validation: [      9      13      22 ... 1007063 1007078 1007137]\n",
      "Train: [      0       1       2 ... 1007146 1007147 1007148] Validation: [      6      18      26 ... 1007116 1007120 1007126]\n",
      "Train: [      0       1       2 ... 1007146 1007147 1007148] Validation: [     15      27      49 ... 1007131 1007132 1007134]\n",
      "Train: [      0       1       2 ... 1007145 1007147 1007148] Validation: [     17      28      30 ... 1007135 1007139 1007146]\n",
      "Train: [      0       1       2 ... 1007146 1007147 1007148] Validation: [     20      29      32 ... 1007130 1007140 1007141]\n",
      "Train: [      0       1       3 ... 1007146 1007147 1007148] Validation: [      2      11      31 ... 1007127 1007133 1007138]\n",
      "Train: [      1       2       3 ... 1007142 1007143 1007146] Validation: [      0       5      19 ... 1007145 1007147 1007148]\n",
      "Train: [      0       1       2 ... 1007146 1007147 1007148] Validation: [      4      16      64 ... 1007122 1007142 1007143]\n",
      "Train: [      0       1       2 ... 1007146 1007147 1007148] Validation: [      7       8      10 ... 1007124 1007128 1007136]\n",
      "Train: [      0       2       4 ... 1007146 1007147 1007148] Validation: [      1       3      12 ... 1007095 1007100 1007114]\n"
     ]
    }
   ],
   "source": [
    "kf = RepeatedKFold(n_splits=10, n_repeats=5, random_state=None) \n",
    "\n",
    "for train_index, test_index in kf.split(X_train):\n",
    "      print(\"Train:\", train_index, \"Validation:\",test_index)\n",
    "      x_train, x_test = X_train[train_index], X_train[test_index] \n",
    "      Y_train, Y_test = y_train[train_index], y_train[test_index]"
   ]
  },
  {
   "cell_type": "code",
   "execution_count": 19,
   "id": "51500b13",
   "metadata": {},
   "outputs": [
    {
     "name": "stdout",
     "output_type": "stream",
     "text": [
      "[ 100715  100716  100717 ... 1007146 1007147 1007148] [     0      1      2 ... 100712 100713 100714]\n",
      "[      0       1       2 ... 1007146 1007147 1007148] [100715 100716 100717 ... 201427 201428 201429]\n",
      "[      0       1       2 ... 1007146 1007147 1007148] [201430 201431 201432 ... 302142 302143 302144]\n",
      "[      0       1       2 ... 1007146 1007147 1007148] [302145 302146 302147 ... 402857 402858 402859]\n",
      "[      0       1       2 ... 1007146 1007147 1007148] [402860 402861 402862 ... 503572 503573 503574]\n",
      "[      0       1       2 ... 1007146 1007147 1007148] [503575 503576 503577 ... 604287 604288 604289]\n",
      "[      0       1       2 ... 1007146 1007147 1007148] [604290 604291 604292 ... 705002 705003 705004]\n",
      "[      0       1       2 ... 1007146 1007147 1007148] [705005 705006 705007 ... 805717 805718 805719]\n",
      "[      0       1       2 ... 1007146 1007147 1007148] [805720 805721 805722 ... 906432 906433 906434]\n",
      "[     0      1      2 ... 906432 906433 906434] [ 906435  906436  906437 ... 1007146 1007147 1007148]\n"
     ]
    }
   ],
   "source": [
    "kf = KFold(n_splits=10)\n",
    "for train, test in kf.split(X_train):\n",
    "    print(\"%s %s\" % (train, test))"
   ]
  }
 ],
 "metadata": {
  "kernelspec": {
   "display_name": "Python 3 (ipykernel)",
   "language": "python",
   "name": "python3"
  },
  "language_info": {
   "codemirror_mode": {
    "name": "ipython",
    "version": 3
   },
   "file_extension": ".py",
   "mimetype": "text/x-python",
   "name": "python",
   "nbconvert_exporter": "python",
   "pygments_lexer": "ipython3",
   "version": "3.9.10"
  }
 },
 "nbformat": 4,
 "nbformat_minor": 5
}
