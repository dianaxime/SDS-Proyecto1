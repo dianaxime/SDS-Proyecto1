{
 "cells": [
  {
   "cell_type": "code",
   "execution_count": 1,
   "id": "d9c84c1e",
   "metadata": {},
   "outputs": [],
   "source": [
    "import pandas as pd\n",
    "import numpy as np\n",
    "import matplotlib.pyplot as plt\n",
    "import seaborn as sns\n",
    "%matplotlib inline\n",
    "\n",
    "import sklearn\n",
    "from sklearn import metrics, model_selection, tree\n",
    "from sklearn.ensemble import GradientBoostingClassifier\n",
    "import joblib"
   ]
  },
  {
   "cell_type": "code",
   "execution_count": 2,
   "id": "f68c191f",
   "metadata": {},
   "outputs": [],
   "source": [
    "# Train data\n",
    "X_train = pd.read_csv('x_train_smote_undersample.csv').to_numpy()\n",
    "y_train = pd.read_csv('y_train_smote_undersample.csv')\n",
    "y_train = y_train['LABEL']\n",
    "\n",
    "# Test data\n",
    "X_test = pd.read_csv('x_test_smote_undersample.csv').to_numpy()\n",
    "y_test = pd.read_csv('y_test_smote_undersample.csv')\n",
    "y_test = y_test['LABEL']\n",
    "\n",
    "# Validation data\n",
    "X_validation = pd.read_csv('x_validation_smote_undersample.csv').to_numpy()\n",
    "y_validation = pd.read_csv('y_validation_smote_undersample.csv')\n",
    "y_validation = y_validation['LABEL']"
   ]
  },
  {
   "cell_type": "code",
   "execution_count": 3,
   "id": "cdf907aa",
   "metadata": {},
   "outputs": [],
   "source": [
    "clf = GradientBoostingClassifier(n_estimators=100, learning_rate=1.0, max_depth=1, random_state=7)"
   ]
  },
  {
   "cell_type": "code",
   "execution_count": 4,
   "id": "5af2bd98",
   "metadata": {},
   "outputs": [
    {
     "data": {
      "text/plain": [
       "GradientBoostingClassifier(learning_rate=1.0, max_depth=1, random_state=7)"
      ]
     },
     "execution_count": 4,
     "metadata": {},
     "output_type": "execute_result"
    }
   ],
   "source": [
    "clf.fit(X_train, y_train)"
   ]
  },
  {
   "cell_type": "code",
   "execution_count": 5,
   "id": "354f9d52",
   "metadata": {},
   "outputs": [
    {
     "data": {
      "text/plain": [
       "0.8854319869588843"
      ]
     },
     "execution_count": 5,
     "metadata": {},
     "output_type": "execute_result"
    }
   ],
   "source": [
    "clf.score(X_test, y_test)"
   ]
  },
  {
   "cell_type": "code",
   "execution_count": 6,
   "id": "aa786662",
   "metadata": {},
   "outputs": [],
   "source": [
    "pred = clf.predict(X_test)"
   ]
  },
  {
   "cell_type": "code",
   "execution_count": 7,
   "id": "88e10d32",
   "metadata": {},
   "outputs": [
    {
     "name": "stdout",
     "output_type": "stream",
     "text": [
      "0.8854319869588843\n",
      "Matriz de confusion [[276634    139   4740  15116]\n",
      " [    23 112711      0     85]\n",
      " [  5858      0  60290  37292]\n",
      " [     0      0      0  39212]]\n",
      "              precision    recall  f1-score   support\n",
      "\n",
      "           0       0.98      0.93      0.96    296629\n",
      "           1       1.00      1.00      1.00    112819\n",
      "           2       0.93      0.58      0.72    103440\n",
      "           3       0.43      1.00      0.60     39212\n",
      "\n",
      "    accuracy                           0.89    552100\n",
      "   macro avg       0.83      0.88      0.82    552100\n",
      "weighted avg       0.93      0.89      0.89    552100\n",
      "\n"
     ]
    }
   ],
   "source": [
    "print(metrics.accuracy_score(y_test, pred))\n",
    "print('Matriz de confusion', metrics.confusion_matrix(y_test, pred))\n",
    "print(metrics.classification_report(y_test, pred, target_names=['0', '1', '2', '3']))"
   ]
  },
  {
   "cell_type": "code",
   "execution_count": 8,
   "id": "43dbbb14",
   "metadata": {},
   "outputs": [],
   "source": [
    "# metrics.plot_roc_curve(clf, X_test, y_test)\n",
    "# plt.show()"
   ]
  },
  {
   "cell_type": "code",
   "execution_count": 9,
   "id": "cdbe509a",
   "metadata": {},
   "outputs": [
    {
     "data": {
      "text/plain": [
       "['modelo1_v2.h5']"
      ]
     },
     "execution_count": 9,
     "metadata": {},
     "output_type": "execute_result"
    }
   ],
   "source": [
    "joblib.dump(clf, 'modelo1_v2.h5')"
   ]
  }
 ],
 "metadata": {
  "kernelspec": {
   "display_name": "Python 3 (ipykernel)",
   "language": "python",
   "name": "python3"
  },
  "language_info": {
   "codemirror_mode": {
    "name": "ipython",
    "version": 3
   },
   "file_extension": ".py",
   "mimetype": "text/x-python",
   "name": "python",
   "nbconvert_exporter": "python",
   "pygments_lexer": "ipython3",
   "version": "3.9.10"
  }
 },
 "nbformat": 4,
 "nbformat_minor": 5
}
