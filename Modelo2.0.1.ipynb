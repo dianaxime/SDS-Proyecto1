{
 "cells": [
  {
   "cell_type": "markdown",
   "id": "801a43b6",
   "metadata": {},
   "source": [
    "# Multi-Label Classification\n",
    "### Classifier Chains (CC)"
   ]
  },
  {
   "cell_type": "code",
   "execution_count": 1,
   "id": "8e452e01",
   "metadata": {},
   "outputs": [],
   "source": [
    "import pandas as pd\n",
    "import numpy as np\n",
    "import matplotlib.pyplot as plt\n",
    "import seaborn as sns\n",
    "%matplotlib inline\n",
    "\n",
    "import sklearn\n",
    "from sklearn import metrics, model_selection, tree\n",
    "from sklearn.preprocessing import MinMaxScaler"
   ]
  },
  {
   "cell_type": "markdown",
   "id": "3e978fe4",
   "metadata": {},
   "source": [
    "### Carga de data sets"
   ]
  },
  {
   "cell_type": "code",
   "execution_count": 2,
   "id": "c3e57598",
   "metadata": {},
   "outputs": [],
   "source": [
    "# Train data\n",
    "X_train = pd.read_csv('x_train_smote_undersample.csv').to_numpy()\n",
    "y_train = pd.read_csv('y_train_smote_undersample.csv')\n",
    "y_train = y_train['LABEL']\n",
    "\n",
    "# Test data\n",
    "X_test = pd.read_csv('x_test_smote_undersample.csv').to_numpy()\n",
    "y_test = pd.read_csv('y_test_smote_undersample.csv')\n",
    "y_test = y_test['LABEL']\n",
    "\n",
    "# Validation data\n",
    "X_validation = pd.read_csv('x_validation_smote_undersample.csv').to_numpy()\n",
    "y_validation = pd.read_csv('y_validation_smote_undersample.csv')\n",
    "y_validation = y_validation['LABEL']"
   ]
  },
  {
   "cell_type": "markdown",
   "id": "065a53d5",
   "metadata": {},
   "source": [
    "### Modelo\n",
    "*Fuentes de consulta* \\\n",
    "https://scikit-learn.org/stable/modules/generated/sklearn.ensemble.RandomForestClassifier.html \\\n",
    "https://www.analyticsvidhya.com/blog/2017/08/introduction-to-multi-label-classification/ \\\n",
    "https://pypi.org/project/scikit-multilearn/"
   ]
  },
  {
   "cell_type": "code",
   "execution_count": 3,
   "id": "e587c134",
   "metadata": {},
   "outputs": [],
   "source": [
    "# importacion de librerias para modelo\n",
    "from skmultilearn.problem_transform import ClassifierChain\n",
    "from sklearn.naive_bayes import GaussianNB"
   ]
  },
  {
   "cell_type": "code",
   "execution_count": 4,
   "id": "45bd282d",
   "metadata": {},
   "outputs": [],
   "source": [
    "# initialize classifier chains multi-label classifier\n",
    "# with a gaussian naive bayes base classifier\n",
    "classifier = ClassifierChain(GaussianNB())"
   ]
  },
  {
   "cell_type": "code",
   "execution_count": 6,
   "id": "bc33d812",
   "metadata": {},
   "outputs": [
    {
     "ename": "AttributeError",
     "evalue": "'Series' object has no attribute 'reshape'",
     "output_type": "error",
     "traceback": [
      "\u001b[1;31m---------------------------------------------------------------------------\u001b[0m",
      "\u001b[1;31mAttributeError\u001b[0m                            Traceback (most recent call last)",
      "Input \u001b[1;32mIn [6]\u001b[0m, in \u001b[0;36m<module>\u001b[1;34m\u001b[0m\n\u001b[0;32m      1\u001b[0m \u001b[38;5;66;03m# train\u001b[39;00m\n\u001b[1;32m----> 2\u001b[0m \u001b[43mclassifier\u001b[49m\u001b[38;5;241;43m.\u001b[39;49m\u001b[43mfit\u001b[49m\u001b[43m(\u001b[49m\u001b[43mX_train\u001b[49m\u001b[43m,\u001b[49m\u001b[43m \u001b[49m\u001b[43my_train\u001b[49m\u001b[43m)\u001b[49m\n",
      "File \u001b[1;32m~\\AppData\\Local\\Programs\\Python\\Python39\\lib\\site-packages\\skmultilearn\\problem_transform\\cc.py:145\u001b[0m, in \u001b[0;36mClassifierChain.fit\u001b[1;34m(self, X, y, order)\u001b[0m\n\u001b[0;32m    141\u001b[0m \u001b[38;5;66;03m# fit L = len(y[0]) BR classifiers h_i\u001b[39;00m\n\u001b[0;32m    142\u001b[0m \u001b[38;5;66;03m# on X + y[:i] as input space and y[i+1] as output\u001b[39;00m\n\u001b[0;32m    144\u001b[0m X_extended \u001b[38;5;241m=\u001b[39m \u001b[38;5;28mself\u001b[39m\u001b[38;5;241m.\u001b[39m_ensure_input_format(X, sparse_format\u001b[38;5;241m=\u001b[39m\u001b[38;5;124m'\u001b[39m\u001b[38;5;124mcsc\u001b[39m\u001b[38;5;124m'\u001b[39m, enforce_sparse\u001b[38;5;241m=\u001b[39m\u001b[38;5;28;01mTrue\u001b[39;00m)\n\u001b[1;32m--> 145\u001b[0m y \u001b[38;5;241m=\u001b[39m \u001b[38;5;28;43mself\u001b[39;49m\u001b[38;5;241;43m.\u001b[39;49m\u001b[43m_ensure_output_format\u001b[49m\u001b[43m(\u001b[49m\u001b[43my\u001b[49m\u001b[43m,\u001b[49m\u001b[43m \u001b[49m\u001b[43msparse_format\u001b[49m\u001b[38;5;241;43m=\u001b[39;49m\u001b[38;5;124;43m'\u001b[39;49m\u001b[38;5;124;43mcsc\u001b[39;49m\u001b[38;5;124;43m'\u001b[39;49m\u001b[43m,\u001b[49m\u001b[43m \u001b[49m\u001b[43menforce_sparse\u001b[49m\u001b[38;5;241;43m=\u001b[39;49m\u001b[38;5;28;43;01mTrue\u001b[39;49;00m\u001b[43m)\u001b[49m\n\u001b[0;32m    147\u001b[0m \u001b[38;5;28mself\u001b[39m\u001b[38;5;241m.\u001b[39m_label_count \u001b[38;5;241m=\u001b[39m y\u001b[38;5;241m.\u001b[39mshape[\u001b[38;5;241m1\u001b[39m]\n\u001b[0;32m    148\u001b[0m \u001b[38;5;28mself\u001b[39m\u001b[38;5;241m.\u001b[39mclassifiers_ \u001b[38;5;241m=\u001b[39m [\u001b[38;5;28;01mNone\u001b[39;00m \u001b[38;5;28;01mfor\u001b[39;00m x \u001b[38;5;129;01min\u001b[39;00m \u001b[38;5;28mrange\u001b[39m(\u001b[38;5;28mself\u001b[39m\u001b[38;5;241m.\u001b[39m_label_count)]\n",
      "File \u001b[1;32m~\\AppData\\Local\\Programs\\Python\\Python39\\lib\\site-packages\\skmultilearn\\base\\base.py:156\u001b[0m, in \u001b[0;36mMLClassifierBase._ensure_output_format\u001b[1;34m(self, matrix, sparse_format, enforce_sparse)\u001b[0m\n\u001b[0;32m    153\u001b[0m \u001b[38;5;28;01melse\u001b[39;00m:\n\u001b[0;32m    154\u001b[0m     \u001b[38;5;66;03m# ensuring 2d\u001b[39;00m\n\u001b[0;32m    155\u001b[0m     \u001b[38;5;28;01mif\u001b[39;00m \u001b[38;5;28mlen\u001b[39m(matrix\u001b[38;5;241m.\u001b[39mshape) \u001b[38;5;241m==\u001b[39m \u001b[38;5;241m1\u001b[39m:\n\u001b[1;32m--> 156\u001b[0m         matrix \u001b[38;5;241m=\u001b[39m \u001b[43mmatrix\u001b[49m\u001b[38;5;241;43m.\u001b[39;49m\u001b[43mreshape\u001b[49m((matrix\u001b[38;5;241m.\u001b[39mshape[\u001b[38;5;241m0\u001b[39m], \u001b[38;5;241m1\u001b[39m))\n\u001b[0;32m    157\u001b[0m     \u001b[38;5;28;01mreturn\u001b[39;00m matrix_creation_function_for_format(sparse_format)(matrix)\n",
      "File \u001b[1;32m~\\AppData\\Local\\Programs\\Python\\Python39\\lib\\site-packages\\pandas\\core\\generic.py:5487\u001b[0m, in \u001b[0;36mNDFrame.__getattr__\u001b[1;34m(self, name)\u001b[0m\n\u001b[0;32m   5480\u001b[0m \u001b[38;5;28;01mif\u001b[39;00m (\n\u001b[0;32m   5481\u001b[0m     name \u001b[38;5;129;01mnot\u001b[39;00m \u001b[38;5;129;01min\u001b[39;00m \u001b[38;5;28mself\u001b[39m\u001b[38;5;241m.\u001b[39m_internal_names_set\n\u001b[0;32m   5482\u001b[0m     \u001b[38;5;129;01mand\u001b[39;00m name \u001b[38;5;129;01mnot\u001b[39;00m \u001b[38;5;129;01min\u001b[39;00m \u001b[38;5;28mself\u001b[39m\u001b[38;5;241m.\u001b[39m_metadata\n\u001b[0;32m   5483\u001b[0m     \u001b[38;5;129;01mand\u001b[39;00m name \u001b[38;5;129;01mnot\u001b[39;00m \u001b[38;5;129;01min\u001b[39;00m \u001b[38;5;28mself\u001b[39m\u001b[38;5;241m.\u001b[39m_accessors\n\u001b[0;32m   5484\u001b[0m     \u001b[38;5;129;01mand\u001b[39;00m \u001b[38;5;28mself\u001b[39m\u001b[38;5;241m.\u001b[39m_info_axis\u001b[38;5;241m.\u001b[39m_can_hold_identifiers_and_holds_name(name)\n\u001b[0;32m   5485\u001b[0m ):\n\u001b[0;32m   5486\u001b[0m     \u001b[38;5;28;01mreturn\u001b[39;00m \u001b[38;5;28mself\u001b[39m[name]\n\u001b[1;32m-> 5487\u001b[0m \u001b[38;5;28;01mreturn\u001b[39;00m \u001b[38;5;28;43mobject\u001b[39;49m\u001b[38;5;241;43m.\u001b[39;49m\u001b[38;5;21;43m__getattribute__\u001b[39;49m\u001b[43m(\u001b[49m\u001b[38;5;28;43mself\u001b[39;49m\u001b[43m,\u001b[49m\u001b[43m \u001b[49m\u001b[43mname\u001b[49m\u001b[43m)\u001b[49m\n",
      "\u001b[1;31mAttributeError\u001b[0m: 'Series' object has no attribute 'reshape'"
     ]
    }
   ],
   "source": [
    "# train\n",
    "classifier.fit(X_train, y_train)"
   ]
  },
  {
   "cell_type": "code",
   "execution_count": null,
   "id": "d38f65e6",
   "metadata": {},
   "outputs": [],
   "source": [
    "X_test.info()"
   ]
  },
  {
   "cell_type": "code",
   "execution_count": null,
   "id": "1e25aada",
   "metadata": {},
   "outputs": [],
   "source": [
    "(X_test[0:220839]).info()"
   ]
  },
  {
   "cell_type": "code",
   "execution_count": null,
   "id": "b342a8b8",
   "metadata": {},
   "outputs": [],
   "source": [
    "predictions = classifier.predict(X_test[0:147226])"
   ]
  },
  {
   "cell_type": "code",
   "execution_count": null,
   "id": "6f4977a8",
   "metadata": {},
   "outputs": [],
   "source": [
    "clf.score(X_test, y_test)"
   ]
  },
  {
   "cell_type": "code",
   "execution_count": null,
   "id": "0ba300cd",
   "metadata": {},
   "outputs": [],
   "source": [
    "print(metrics.accuracy_score(y_test, predictions))\n",
    "print('Matriz de confusion Random Forest Classifier\\n', metrics.confusion_matrix(y_test, predictions))\n",
    "print(metrics.classification_report(y_test, predictions, target_names=['0', '1', '2', '3']))"
   ]
  },
  {
   "cell_type": "code",
   "execution_count": null,
   "id": "77dbed3c",
   "metadata": {},
   "outputs": [],
   "source": [
    "metrics.plot_roc_curve(clf, X_test, y_test)\n",
    "plt.show()"
   ]
  },
  {
   "cell_type": "code",
   "execution_count": null,
   "id": "c6735cb2",
   "metadata": {},
   "outputs": [],
   "source": [
    "import joblib\n",
    "joblib.dump(scaler,'escalador.pkl')"
   ]
  },
  {
   "cell_type": "code",
   "execution_count": null,
   "id": "998c7a8e",
   "metadata": {},
   "outputs": [],
   "source": [
    "joblib.dump(clf, 'modelo2.h5')"
   ]
  },
  {
   "cell_type": "code",
   "execution_count": null,
   "id": "eb6f6a6d",
   "metadata": {},
   "outputs": [],
   "source": []
  }
 ],
 "metadata": {
  "kernelspec": {
   "display_name": "Python 3 (ipykernel)",
   "language": "python",
   "name": "python3"
  },
  "language_info": {
   "codemirror_mode": {
    "name": "ipython",
    "version": 3
   },
   "file_extension": ".py",
   "mimetype": "text/x-python",
   "name": "python",
   "nbconvert_exporter": "python",
   "pygments_lexer": "ipython3",
   "version": "3.9.10"
  }
 },
 "nbformat": 4,
 "nbformat_minor": 5
}
