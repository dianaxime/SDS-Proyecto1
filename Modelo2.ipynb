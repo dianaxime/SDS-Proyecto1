{
 "cells": [
  {
   "cell_type": "markdown",
   "id": "03793af6",
   "metadata": {},
   "source": [
    "# Multi-Label Classification\n",
    "### Random Forest Classifier"
   ]
  },
  {
   "cell_type": "code",
   "execution_count": 1,
   "id": "3931a250",
   "metadata": {},
   "outputs": [],
   "source": [
    "import pandas as pd\n",
    "import numpy as np\n",
    "import matplotlib.pyplot as plt\n",
    "import seaborn as sns\n",
    "%matplotlib inline\n",
    "\n",
    "from imblearn.over_sampling import SMOTE\n",
    "from sklearn.model_selection import train_test_split\n",
    "\n",
    "import sklearn\n",
    "from sklearn import metrics, model_selection, tree\n",
    "from sklearn.preprocessing import MinMaxScaler\n",
    "from sklearn.model_selection import cross_val_score\n",
    "from sklearn.model_selection import RepeatedKFold\n",
    "from sklearn.model_selection import KFold\n",
    "from statistics import mean\n",
    "from sklearn.preprocessing import label_binarize"
   ]
  },
  {
   "cell_type": "markdown",
   "id": "8c81165b",
   "metadata": {},
   "source": [
    "#### Carga de data sets\n",
    "https://scikit-learn.org/stable/modules/generated/sklearn.ensemble.RandomForestClassifier.html\n",
    "https://www.analyticsvidhya.com/blog/2017/08/introduction-to-multi-label-classification/"
   ]
  },
  {
   "cell_type": "code",
   "execution_count": 2,
   "id": "bfbae479",
   "metadata": {},
   "outputs": [],
   "source": [
    "# Train data\n",
    "X_train = pd.read_csv('x_train.csv').to_numpy()\n",
    "y_train = pd.read_csv('y_train.csv')\n",
    "y_train = y_train['LABEL']\n",
    "\n",
    "# Test data\n",
    "X_test = pd.read_csv('x_test.csv').to_numpy()\n",
    "y_test = pd.read_csv('y_test.csv')\n",
    "y_test = y_test['LABEL']\n",
    "\n",
    "# Validation data\n",
    "X_validation = pd.read_csv('x_validation.csv').to_numpy()\n",
    "y_validation = pd.read_csv('y_validation.csv')\n",
    "y_validation = y_validation['LABEL']"
   ]
  },
  {
   "cell_type": "code",
   "execution_count": 3,
   "id": "e6b096ae",
   "metadata": {},
   "outputs": [],
   "source": [
    "from sklearn.ensemble import RandomForestClassifier"
   ]
  },
  {
   "cell_type": "code",
   "execution_count": 4,
   "id": "f2dd48d4",
   "metadata": {},
   "outputs": [],
   "source": [
    "clf = RandomForestClassifier(max_depth=3, random_state=6, n_jobs=10, n_estimators=100)"
   ]
  },
  {
   "cell_type": "code",
   "execution_count": 5,
   "id": "55ae0514",
   "metadata": {},
   "outputs": [
    {
     "data": {
      "text/plain": [
       "RandomForestClassifier(max_depth=3, n_jobs=10, random_state=6)"
      ]
     },
     "execution_count": 5,
     "metadata": {},
     "output_type": "execute_result"
    }
   ],
   "source": [
    "clf.fit(X_train, y_train)"
   ]
  },
  {
   "cell_type": "markdown",
   "id": "66d73045",
   "metadata": {},
   "source": [
    "#### Validation Data"
   ]
  },
  {
   "cell_type": "code",
   "execution_count": 6,
   "id": "af9aa0f0",
   "metadata": {},
   "outputs": [
    {
     "data": {
      "text/plain": [
       "0.9741294666661764"
      ]
     },
     "execution_count": 6,
     "metadata": {},
     "output_type": "execute_result"
    }
   ],
   "source": [
    "clf.score(X_validation, y_validation)"
   ]
  },
  {
   "cell_type": "code",
   "execution_count": 7,
   "id": "15358cb9",
   "metadata": {},
   "outputs": [],
   "source": [
    "pred_validation = clf.predict(X_validation)"
   ]
  },
  {
   "cell_type": "code",
   "execution_count": 8,
   "id": "12e071e2",
   "metadata": {},
   "outputs": [
    {
     "name": "stdout",
     "output_type": "stream",
     "text": [
      "0.9741294666661764\n",
      "Matriz de confusion Random Forest Classifier\n",
      " [[61498   997  4687  1283]\n",
      " [   67 64894     0     0]\n",
      " [    1     0 92343     0]\n",
      " [    0     0     0 46161]]\n",
      "              precision    recall  f1-score   support\n",
      "\n",
      "           0       1.00      0.90      0.95     68465\n",
      "           1       0.98      1.00      0.99     64961\n",
      "           2       0.95      1.00      0.98     92344\n",
      "           3       0.97      1.00      0.99     46161\n",
      "\n",
      "    accuracy                           0.97    271931\n",
      "   macro avg       0.98      0.97      0.97    271931\n",
      "weighted avg       0.98      0.97      0.97    271931\n",
      "\n"
     ]
    }
   ],
   "source": [
    "print(metrics.accuracy_score(y_validation, pred_validation))\n",
    "print('Matriz de confusion Random Forest Classifier\\n', metrics.confusion_matrix(y_validation, pred_validation))\n",
    "print(metrics.classification_report(y_validation, pred_validation, target_names=['0', '1', '2', '3']))"
   ]
  },
  {
   "cell_type": "markdown",
   "id": "45c96647",
   "metadata": {},
   "source": [
    "#### Test data"
   ]
  },
  {
   "cell_type": "code",
   "execution_count": 9,
   "id": "0ae5272e",
   "metadata": {},
   "outputs": [],
   "source": [
    "predictions = clf.predict(X_test)"
   ]
  },
  {
   "cell_type": "code",
   "execution_count": 10,
   "id": "d3ab2d0f",
   "metadata": {},
   "outputs": [
    {
     "data": {
      "text/plain": [
       "0.9745988045643905"
      ]
     },
     "execution_count": 10,
     "metadata": {},
     "output_type": "execute_result"
    }
   ],
   "source": [
    "clf.score(X_test, y_test)"
   ]
  },
  {
   "cell_type": "code",
   "execution_count": 11,
   "id": "254c8ef2",
   "metadata": {},
   "outputs": [
    {
     "name": "stdout",
     "output_type": "stream",
     "text": [
      "0.9745988045643905\n",
      "Matriz de confusion Random Forest Classifier\n",
      " [[124669   1941   9278   2661]\n",
      " [   139 133153      1      0]\n",
      " [     4      0 187443      0]\n",
      " [     0      0      0  92811]]\n",
      "              precision    recall  f1-score   support\n",
      "\n",
      "           0       1.00      0.90      0.95    138549\n",
      "           1       0.99      1.00      0.99    133293\n",
      "           2       0.95      1.00      0.98    187447\n",
      "           3       0.97      1.00      0.99     92811\n",
      "\n",
      "    accuracy                           0.97    552100\n",
      "   macro avg       0.98      0.97      0.98    552100\n",
      "weighted avg       0.98      0.97      0.97    552100\n",
      "\n"
     ]
    }
   ],
   "source": [
    "print(metrics.accuracy_score(y_test, predictions))\n",
    "print('Matriz de confusion Random Forest Classifier\\n', metrics.confusion_matrix(y_test, predictions))\n",
    "print(metrics.classification_report(y_test, predictions, target_names=['0', '1', '2', '3']))"
   ]
  },
  {
   "cell_type": "code",
   "execution_count": 12,
   "id": "d1c1bace",
   "metadata": {},
   "outputs": [],
   "source": [
    "import joblib"
   ]
  },
  {
   "cell_type": "code",
   "execution_count": 13,
   "id": "e36753db",
   "metadata": {},
   "outputs": [
    {
     "data": {
      "text/plain": [
       "['modelo2.h5']"
      ]
     },
     "execution_count": 13,
     "metadata": {},
     "output_type": "execute_result"
    }
   ],
   "source": [
    "joblib.dump(clf, 'modelo2.h5')"
   ]
  },
  {
   "cell_type": "markdown",
   "id": "84e92d78",
   "metadata": {},
   "source": [
    "## Grafica ROC\n",
    "Extraído de: https://laurenliz22.github.io/roc_curve_multiclass_predictions_random_forest_classifier"
   ]
  },
  {
   "cell_type": "code",
   "execution_count": 14,
   "id": "3670d156",
   "metadata": {},
   "outputs": [],
   "source": [
    "#Calculate the y_score\n",
    "y_score = clf.predict_proba(X_test)"
   ]
  },
  {
   "cell_type": "code",
   "execution_count": 15,
   "id": "34516c3b",
   "metadata": {},
   "outputs": [],
   "source": [
    "#Binarize the output\n",
    "y_test_bin = label_binarize(y_test, classes=[0, 1, 2, 3])\n",
    "n_classes = y_test_bin.shape[1]"
   ]
  },
  {
   "cell_type": "code",
   "execution_count": 16,
   "id": "10975e70",
   "metadata": {},
   "outputs": [
    {
     "data": {
      "image/png": "[encoded data removed]",
      "text/plain": [
       "<Figure size 1152x720 with 1 Axes>"
      ]
     },
     "metadata": {
      "needs_background": "light"
     },
     "output_type": "display_data"
    }
   ],
   "source": [
    "plt.rcParams['figure.figsize'] = (16, 10)\n",
    "fpr = dict()\n",
    "tpr = dict()\n",
    "roc_auc = dict()\n",
    "\n",
    "for i in range(n_classes):\n",
    "  fpr[i], tpr[i], _ = metrics.roc_curve(y_test_bin[:, i], y_score[:, i])\n",
    "  plt.plot(fpr[i], tpr[i], lw=2, label='ROC curve (area = %0.2f) for label %i' % (metrics.auc(fpr[i], tpr[i]), i))\n",
    "\n",
    "plt.plot([0, 1], [0, 1], color='navy', lw=2, linestyle='--')\n",
    "plt.xlim([0.0, 1.0])\n",
    "plt.ylim([0.0, 1.05])\n",
    "plt.legend(loc=\"best\")\n",
    "plt.grid(alpha=.4)\n",
    "plt.xlabel('False Positive Rate')\n",
    "plt.ylabel('True Positive Rate')\n",
    "plt.title('Receiver Operating Characteristic Curves')\n",
    "plt.show()"
   ]
  },
  {
   "cell_type": "markdown",
   "id": "665bf727",
   "metadata": {},
   "source": [
    "## Cross Validation\n",
    "Fuente de consulta: https://machinelearningmastery.com/repeated-k-fold-cross-validation-with-python/"
   ]
  },
  {
   "cell_type": "code",
   "execution_count": 17,
   "id": "262a46e6",
   "metadata": {},
   "outputs": [
    {
     "name": "stdout",
     "output_type": "stream",
     "text": [
      "[0.97336047 0.97434344 0.97274487 0.97404557 0.97549521 0.97372785\n",
      " 0.97421437 0.97182148 0.97431366 0.97426376]\n"
     ]
    }
   ],
   "source": [
    "rf_cv_score=cross_val_score(estimator=clf, X=X_train, y=y_train, cv=10, n_jobs=-1)\n",
    "print(rf_cv_score)"
   ]
  },
  {
   "cell_type": "code",
   "execution_count": 18,
   "id": "754bffdd",
   "metadata": {},
   "outputs": [],
   "source": [
    "# prepare the cross-validation procedure\n",
    "cv = KFold(n_splits=10, random_state=1, shuffle=True)\n",
    "# evaluate model\n",
    "scores = cross_val_score(clf, X_train, y_train, scoring='accuracy', cv=cv, n_jobs=-1)"
   ]
  },
  {
   "cell_type": "code",
   "execution_count": 19,
   "id": "5b917df4",
   "metadata": {},
   "outputs": [
    {
     "name": "stdout",
     "output_type": "stream",
     "text": [
      "Accuracy: 0.975 (0.001)\n"
     ]
    }
   ],
   "source": [
    "# report performance\n",
    "print('Accuracy: %.3f (%.3f)' % (np.mean(scores), np.std(scores)))"
   ]
  },
  {
   "cell_type": "code",
   "execution_count": 20,
   "id": "fce6bc46",
   "metadata": {},
   "outputs": [
    {
     "name": "stdout",
     "output_type": "stream",
     "text": [
      "Train: [      0       1       3 ... 1007146 1007147 1007148] Validation: [      2       6      17 ... 1007091 1007125 1007130]\n",
      "Train: [      0       1       2 ... 1007146 1007147 1007148] Validation: [     13      23      32 ... 1007108 1007112 1007119]\n",
      "Train: [      0       1       2 ... 1007145 1007146 1007148] Validation: [     14      19      24 ... 1007128 1007137 1007147]\n",
      "Train: [      0       1       2 ... 1007146 1007147 1007148] Validation: [      7      12      20 ... 1007134 1007139 1007144]\n",
      "Train: [      0       1       2 ... 1007146 1007147 1007148] Validation: [     31      66      73 ... 1007126 1007142 1007143]\n",
      "Train: [      1       2       3 ... 1007146 1007147 1007148] Validation: [      0      16      25 ... 1007092 1007096 1007131]\n",
      "Train: [      0       1       2 ... 1007144 1007145 1007147] Validation: [      4       8       9 ... 1007141 1007146 1007148]\n",
      "Train: [      0       2       4 ... 1007146 1007147 1007148] Validation: [      1       3      10 ... 1007132 1007136 1007138]\n",
      "Train: [      0       1       2 ... 1007146 1007147 1007148] Validation: [     27      49      52 ... 1007122 1007127 1007145]\n",
      "Train: [      0       1       2 ... 1007146 1007147 1007148] Validation: [      5      39      58 ... 1007081 1007099 1007103]\n",
      "Train: [      0       1       2 ... 1007146 1007147 1007148] Validation: [      3      32      41 ... 1007123 1007141 1007143]\n",
      "Train: [      1       2       3 ... 1007146 1007147 1007148] Validation: [      0       7      20 ... 1007128 1007130 1007137]\n",
      "Train: [      0       1       3 ... 1007146 1007147 1007148] Validation: [      2       6       9 ... 1007110 1007116 1007127]\n",
      "Train: [      0       1       2 ... 1007145 1007147 1007148] Validation: [     17      21      22 ... 1007140 1007144 1007146]\n",
      "Train: [      0       1       2 ... 1007146 1007147 1007148] Validation: [      4       8      12 ... 1007135 1007136 1007139]\n",
      "Train: [      0       1       2 ... 1007146 1007147 1007148] Validation: [     11      34      40 ... 1007124 1007142 1007145]\n",
      "Train: [      0       1       2 ... 1007146 1007147 1007148] Validation: [     15      19      28 ... 1007098 1007105 1007125]\n",
      "Train: [      0       1       2 ... 1007145 1007146 1007148] Validation: [      5      10      16 ... 1007117 1007118 1007147]\n",
      "Train: [      0       1       2 ... 1007145 1007146 1007147] Validation: [     13      23      27 ... 1007062 1007133 1007148]\n",
      "Train: [      0       2       3 ... 1007146 1007147 1007148] Validation: [      1      14      37 ... 1007115 1007119 1007138]\n",
      "Train: [      0       1       2 ... 1007146 1007147 1007148] Validation: [      4      30      40 ... 1007131 1007140 1007144]\n",
      "Train: [      0       1       2 ... 1007146 1007147 1007148] Validation: [      9      13      15 ... 1007091 1007105 1007111]\n",
      "Train: [      2       3       4 ... 1007145 1007146 1007147] Validation: [      0       1       7 ... 1007138 1007143 1007148]\n",
      "Train: [      0       1       2 ... 1007146 1007147 1007148] Validation: [     34      46      60 ... 1007137 1007141 1007142]\n",
      "Train: [      0       1       2 ... 1007145 1007147 1007148] Validation: [     19      27      45 ... 1007119 1007133 1007146]\n",
      "Train: [      0       1       2 ... 1007146 1007147 1007148] Validation: [      5      10      14 ... 1007125 1007130 1007136]\n",
      "Train: [      0       1       2 ... 1007146 1007147 1007148] Validation: [     11      51      53 ... 1007068 1007086 1007123]\n",
      "Train: [      0       1       2 ... 1007144 1007146 1007148] Validation: [      6      18      23 ... 1007139 1007145 1007147]\n",
      "Train: [      0       1       3 ... 1007146 1007147 1007148] Validation: [      2      20      29 ... 1007108 1007110 1007126]\n",
      "Train: [      0       1       2 ... 1007146 1007147 1007148] Validation: [      3      12      21 ... 1007095 1007128 1007134]\n",
      "Train: [      0       1       2 ... 1007146 1007147 1007148] Validation: [      7      18      69 ... 1007093 1007119 1007138]\n",
      "Train: [      0       1       2 ... 1007142 1007143 1007146] Validation: [     11      25      67 ... 1007145 1007147 1007148]\n",
      "Train: [      0       1       2 ... 1007146 1007147 1007148] Validation: [      4       9      19 ... 1007072 1007128 1007131]\n",
      "Train: [      0       1       2 ... 1007146 1007147 1007148] Validation: [     17      20      33 ... 1007132 1007135 1007137]\n",
      "Train: [      0       1       2 ... 1007146 1007147 1007148] Validation: [     23      24      40 ... 1007096 1007124 1007140]\n",
      "Train: [      0       1       2 ... 1007146 1007147 1007148] Validation: [     10      12      14 ... 1007126 1007130 1007133]\n",
      "Train: [      0       1       2 ... 1007146 1007147 1007148] Validation: [      3       6      26 ... 1007129 1007134 1007136]\n",
      "Train: [      0       2       3 ... 1007145 1007147 1007148] Validation: [      1      15      34 ... 1007141 1007143 1007146]\n",
      "Train: [      1       2       3 ... 1007146 1007147 1007148] Validation: [      0       5      13 ... 1007113 1007118 1007142]\n",
      "Train: [      0       1       3 ... 1007146 1007147 1007148] Validation: [      2       8      27 ... 1007112 1007114 1007122]\n",
      "Train: [      0       1       2 ... 1007146 1007147 1007148] Validation: [      9      14      20 ... 1007104 1007105 1007135]\n",
      "Train: [      0       1       2 ... 1007145 1007146 1007148] Validation: [     16      19      25 ... 1007142 1007143 1007147]\n",
      "Train: [      1       2       3 ... 1007144 1007145 1007147] Validation: [      0       8      10 ... 1007132 1007146 1007148]\n",
      "Train: [      0       1       2 ... 1007146 1007147 1007148] Validation: [     55      57      58 ... 1007138 1007139 1007140]\n",
      "Train: [      0       1       2 ... 1007146 1007147 1007148] Validation: [     11      12      24 ... 1007121 1007123 1007144]\n",
      "Train: [      0       1       3 ... 1007146 1007147 1007148] Validation: [      2      18      28 ... 1007094 1007095 1007128]\n",
      "Train: [      0       1       2 ... 1007146 1007147 1007148] Validation: [      3       6      13 ... 1007133 1007134 1007136]\n",
      "Train: [      0       1       2 ... 1007146 1007147 1007148] Validation: [     22      23      38 ... 1007069 1007112 1007145]\n",
      "Train: [      0       1       2 ... 1007146 1007147 1007148] Validation: [      4       5       7 ... 1007111 1007120 1007125]\n",
      "Train: [      0       2       3 ... 1007146 1007147 1007148] Validation: [      1      21      34 ... 1007103 1007127 1007141]\n"
     ]
    }
   ],
   "source": [
    "kf = RepeatedKFold(n_splits=10, n_repeats=5, random_state=None) \n",
    "\n",
    "for train_index, test_index in kf.split(X_train):\n",
    "      print(\"Train:\", train_index, \"Validation:\",test_index)\n",
    "      x_train, x_test = X_train[train_index], X_train[test_index] \n",
    "      Y_train, Y_test = y_train[train_index], y_train[test_index]"
   ]
  },
  {
   "cell_type": "code",
   "execution_count": 21,
   "id": "a9958826",
   "metadata": {},
   "outputs": [
    {
     "name": "stdout",
     "output_type": "stream",
     "text": [
      "[ 100715  100716  100717 ... 1007146 1007147 1007148] [     0      1      2 ... 100712 100713 100714]\n",
      "[      0       1       2 ... 1007146 1007147 1007148] [100715 100716 100717 ... 201427 201428 201429]\n",
      "[      0       1       2 ... 1007146 1007147 1007148] [201430 201431 201432 ... 302142 302143 302144]\n",
      "[      0       1       2 ... 1007146 1007147 1007148] [302145 302146 302147 ... 402857 402858 402859]\n",
      "[      0       1       2 ... 1007146 1007147 1007148] [402860 402861 402862 ... 503572 503573 503574]\n",
      "[      0       1       2 ... 1007146 1007147 1007148] [503575 503576 503577 ... 604287 604288 604289]\n",
      "[      0       1       2 ... 1007146 1007147 1007148] [604290 604291 604292 ... 705002 705003 705004]\n",
      "[      0       1       2 ... 1007146 1007147 1007148] [705005 705006 705007 ... 805717 805718 805719]\n",
      "[      0       1       2 ... 1007146 1007147 1007148] [805720 805721 805722 ... 906432 906433 906434]\n",
      "[     0      1      2 ... 906432 906433 906434] [ 906435  906436  906437 ... 1007146 1007147 1007148]\n"
     ]
    }
   ],
   "source": [
    "kf = KFold(n_splits=10)\n",
    "for train, test in kf.split(X_train):\n",
    "    print(\"%s %s\" % (train, test))"
   ]
  },
  {
   "cell_type": "code",
   "execution_count": null,
   "id": "e2bdc4e7",
   "metadata": {},
   "outputs": [],
   "source": []
  }
 ],
 "metadata": {
  "kernelspec": {
   "display_name": "Python 3 (ipykernel)",
   "language": "python",
   "name": "python3"
  },
  "language_info": {
   "codemirror_mode": {
    "name": "ipython",
    "version": 3
   },
   "file_extension": ".py",
   "mimetype": "text/x-python",
   "name": "python",
   "nbconvert_exporter": "python",
   "pygments_lexer": "ipython3",
   "version": "3.9.10"
  }
 },
 "nbformat": 4,
 "nbformat_minor": 5
}
