{
 "cells": [
  {
   "cell_type": "markdown",
   "id": "03793af6",
   "metadata": {},
   "source": [
    "# Multi-Label Classification\n",
    "### Random Forest Classifier"
   ]
  },
  {
   "cell_type": "code",
   "execution_count": 1,
   "id": "3931a250",
   "metadata": {},
   "outputs": [],
   "source": [
    "import pandas as pd\n",
    "import numpy as np\n",
    "import matplotlib.pyplot as plt\n",
    "import seaborn as sns\n",
    "%matplotlib inline\n",
    "\n",
    "from imblearn.over_sampling import SMOTE\n",
    "from sklearn.model_selection import train_test_split\n",
    "\n",
    "import sklearn\n",
    "from sklearn import metrics, model_selection, tree\n",
    "from sklearn.preprocessing import MinMaxScaler\n",
    "from sklearn.model_selection import cross_val_score\n",
    "from sklearn.model_selection import RepeatedKFold\n",
    "from sklearn.model_selection import KFold\n",
    "from statistics import mean\n",
    "from sklearn.preprocessing import label_binarize"
   ]
  },
  {
   "cell_type": "markdown",
   "id": "8c81165b",
   "metadata": {},
   "source": [
    "#### Carga de data sets\n",
    "https://scikit-learn.org/stable/modules/generated/sklearn.ensemble.RandomForestClassifier.html\n",
    "https://www.analyticsvidhya.com/blog/2017/08/introduction-to-multi-label-classification/"
   ]
  },
  {
   "cell_type": "code",
   "execution_count": 2,
   "id": "bfbae479",
   "metadata": {},
   "outputs": [],
   "source": [
    "# Train data\n",
    "X_train = pd.read_csv('x_train_smote_undersample.csv').to_numpy()\n",
    "y_train = pd.read_csv('y_train_smote_undersample.csv')\n",
    "y_train = y_train['LABEL']\n",
    "\n",
    "# Test data\n",
    "X_test = pd.read_csv('x_test_smote_undersample.csv').to_numpy()\n",
    "y_test = pd.read_csv('y_test_smote_undersample.csv')\n",
    "y_test = y_test['LABEL']\n",
    "\n",
    "# Validation data\n",
    "X_validation = pd.read_csv('x_validation_smote_undersample.csv').to_numpy()\n",
    "y_validation = pd.read_csv('y_validation_smote_undersample.csv')\n",
    "y_validation = y_validation['LABEL']"
   ]
  },
  {
   "cell_type": "code",
   "execution_count": 3,
   "id": "e6b096ae",
   "metadata": {},
   "outputs": [],
   "source": [
    "from sklearn.ensemble import RandomForestClassifier"
   ]
  },
  {
   "cell_type": "code",
   "execution_count": 4,
   "id": "f2dd48d4",
   "metadata": {},
   "outputs": [],
   "source": [
    "clf = RandomForestClassifier(max_depth=3, random_state=6, n_jobs=10, n_estimators=100)"
   ]
  },
  {
   "cell_type": "code",
   "execution_count": 5,
   "id": "55ae0514",
   "metadata": {},
   "outputs": [
    {
     "data": {
      "text/plain": [
       "RandomForestClassifier(max_depth=3, n_jobs=10, random_state=6)"
      ]
     },
     "execution_count": 5,
     "metadata": {},
     "output_type": "execute_result"
    }
   ],
   "source": [
    "clf.fit(X_train, y_train)"
   ]
  },
  {
   "cell_type": "markdown",
   "id": "66d73045",
   "metadata": {},
   "source": [
    "#### Validation Data"
   ]
  },
  {
   "cell_type": "code",
   "execution_count": 6,
   "id": "af9aa0f0",
   "metadata": {},
   "outputs": [
    {
     "data": {
      "text/plain": [
       "0.989287723724033"
      ]
     },
     "execution_count": 6,
     "metadata": {},
     "output_type": "execute_result"
    }
   ],
   "source": [
    "clf.score(X_validation, y_validation)"
   ]
  },
  {
   "cell_type": "code",
   "execution_count": 7,
   "id": "15358cb9",
   "metadata": {},
   "outputs": [],
   "source": [
    "pred_validation = clf.predict(X_validation)"
   ]
  },
  {
   "cell_type": "code",
   "execution_count": 8,
   "id": "12e071e2",
   "metadata": {},
   "outputs": [
    {
     "name": "stdout",
     "output_type": "stream",
     "text": [
      "0.989287723724033\n",
      "Matriz de confusion Random Forest Classifier\n",
      " [[144725    706    985      2]\n",
      " [    49  55558      0      0]\n",
      " [     5      0  50702      0]\n",
      " [     0      0   1166  18033]]\n",
      "              precision    recall  f1-score   support\n",
      "\n",
      "           0       1.00      0.99      0.99    146418\n",
      "           1       0.99      1.00      0.99     55607\n",
      "           2       0.96      1.00      0.98     50707\n",
      "           3       1.00      0.94      0.97     19199\n",
      "\n",
      "    accuracy                           0.99    271931\n",
      "   macro avg       0.99      0.98      0.98    271931\n",
      "weighted avg       0.99      0.99      0.99    271931\n",
      "\n"
     ]
    }
   ],
   "source": [
    "print(metrics.accuracy_score(y_validation, pred_validation))\n",
    "print('Matriz de confusion Random Forest Classifier\\n', metrics.confusion_matrix(y_validation, pred_validation))\n",
    "print(metrics.classification_report(y_validation, pred_validation, target_names=['0', '1', '2', '3']))"
   ]
  },
  {
   "cell_type": "markdown",
   "id": "45c96647",
   "metadata": {},
   "source": [
    "#### Test data"
   ]
  },
  {
   "cell_type": "code",
   "execution_count": 9,
   "id": "0ae5272e",
   "metadata": {},
   "outputs": [],
   "source": [
    "predictions = clf.predict(X_test)"
   ]
  },
  {
   "cell_type": "code",
   "execution_count": 10,
   "id": "d3ab2d0f",
   "metadata": {},
   "outputs": [
    {
     "data": {
      "text/plain": [
       "0.9889548994747328"
      ]
     },
     "execution_count": 10,
     "metadata": {},
     "output_type": "execute_result"
    }
   ],
   "source": [
    "clf.score(X_test, y_test)"
   ]
  },
  {
   "cell_type": "code",
   "execution_count": 11,
   "id": "254c8ef2",
   "metadata": {},
   "outputs": [
    {
     "name": "stdout",
     "output_type": "stream",
     "text": [
      "0.9889548994747328\n",
      "Matriz de confusion Random Forest Classifier\n",
      " [[293060   1507   2051     11]\n",
      " [   107 112712      0      0]\n",
      " [     1      0 103439      0]\n",
      " [     0      0   2421  36791]]\n",
      "              precision    recall  f1-score   support\n",
      "\n",
      "           0       1.00      0.99      0.99    296629\n",
      "           1       0.99      1.00      0.99    112819\n",
      "           2       0.96      1.00      0.98    103440\n",
      "           3       1.00      0.94      0.97     39212\n",
      "\n",
      "    accuracy                           0.99    552100\n",
      "   macro avg       0.99      0.98      0.98    552100\n",
      "weighted avg       0.99      0.99      0.99    552100\n",
      "\n"
     ]
    }
   ],
   "source": [
    "print(metrics.accuracy_score(y_test, predictions))\n",
    "print('Matriz de confusion Random Forest Classifier\\n', metrics.confusion_matrix(y_test, predictions))\n",
    "print(metrics.classification_report(y_test, predictions, target_names=['0', '1', '2', '3']))"
   ]
  },
  {
   "cell_type": "code",
   "execution_count": 12,
   "id": "d1c1bace",
   "metadata": {},
   "outputs": [],
   "source": [
    "import joblib"
   ]
  },
  {
   "cell_type": "code",
   "execution_count": 13,
   "id": "e36753db",
   "metadata": {},
   "outputs": [
    {
     "data": {
      "text/plain": [
       "['modelo2.h5']"
      ]
     },
     "execution_count": 13,
     "metadata": {},
     "output_type": "execute_result"
    }
   ],
   "source": [
    "joblib.dump(clf, 'modelo2.h5')"
   ]
  },
  {
   "cell_type": "markdown",
   "id": "84e92d78",
   "metadata": {},
   "source": [
    "## Grafica ROC\n",
    "Extraído de: https://laurenliz22.github.io/roc_curve_multiclass_predictions_random_forest_classifier"
   ]
  },
  {
   "cell_type": "code",
   "execution_count": 14,
   "id": "3670d156",
   "metadata": {},
   "outputs": [],
   "source": [
    "#Calculate the y_score\n",
    "y_score = clf.predict_proba(X_test)"
   ]
  },
  {
   "cell_type": "code",
   "execution_count": 15,
   "id": "34516c3b",
   "metadata": {},
   "outputs": [],
   "source": [
    "#Binarize the output\n",
    "y_test_bin = label_binarize(y_test, classes=[0, 1, 2, 3])\n",
    "n_classes = y_test_bin.shape[1]"
   ]
  },
  {
   "cell_type": "code",
   "execution_count": 22,
   "id": "10975e70",
   "metadata": {},
   "outputs": [
    {
     "data": {
      "image/png": "[encoded data removed]",
      "text/plain": [
       "<Figure size 1152x720 with 1 Axes>"
      ]
     },
     "metadata": {
      "needs_background": "light"
     },
     "output_type": "display_data"
    }
   ],
   "source": [
    "plt.rcParams['figure.figsize'] = (16, 10)\n",
    "fpr = dict()\n",
    "tpr = dict()\n",
    "roc_auc = dict()\n",
    "\n",
    "for i in range(n_classes):\n",
    "  fpr[i], tpr[i], _ = metrics.roc_curve(y_test_bin[:, i], y_score[:, i])\n",
    "  plt.plot(fpr[i], tpr[i], lw=2, label='ROC curve (area = %0.2f) for label %i' % (metrics.auc(fpr[i], tpr[i]), i))\n",
    "\n",
    "plt.plot([0, 1], [0, 1], color='navy', lw=2, linestyle='--')\n",
    "plt.xlim([0.0, 1.0])\n",
    "plt.ylim([0.0, 1.05])\n",
    "plt.legend(loc=\"best\")\n",
    "plt.grid(alpha=.4)\n",
    "plt.xlabel('False Positive Rate')\n",
    "plt.ylabel('True Positive Rate')\n",
    "plt.title('Receiver Operating Characteristic Curves')\n",
    "plt.show()"
   ]
  },
  {
   "cell_type": "markdown",
   "id": "665bf727",
   "metadata": {},
   "source": [
    "## Cross Validation\n",
    "Fuente de consulta: https://machinelearningmastery.com/repeated-k-fold-cross-validation-with-python/"
   ]
  },
  {
   "cell_type": "code",
   "execution_count": 17,
   "id": "262a46e6",
   "metadata": {},
   "outputs": [
    {
     "name": "stdout",
     "output_type": "stream",
     "text": [
      "[0.98897384 0.98879015 0.99002135 0.9888249  0.98982272]\n"
     ]
    }
   ],
   "source": [
    "rf_cv_score=cross_val_score(estimator=clf, X=X_train, y=y_train, cv=10, n_jobs=-1)\n",
    "print(rf_cv_score)"
   ]
  },
  {
   "cell_type": "code",
   "execution_count": 18,
   "id": "754bffdd",
   "metadata": {},
   "outputs": [],
   "source": [
    "# prepare the cross-validation procedure\n",
    "cv = KFold(n_splits=10, random_state=1, shuffle=True)\n",
    "# evaluate model\n",
    "scores = cross_val_score(clf, X_train, y_train, scoring='accuracy', cv=cv, n_jobs=-1)"
   ]
  },
  {
   "cell_type": "code",
   "execution_count": 19,
   "id": "5b917df4",
   "metadata": {},
   "outputs": [
    {
     "name": "stdout",
     "output_type": "stream",
     "text": [
      "Accuracy: 0.990 (0.002)\n"
     ]
    }
   ],
   "source": [
    "# report performance\n",
    "print('Accuracy: %.3f (%.3f)' % (np.mean(scores), np.std(scores)))"
   ]
  },
  {
   "cell_type": "code",
   "execution_count": 20,
   "id": "fce6bc46",
   "metadata": {},
   "outputs": [
    {
     "name": "stdout",
     "output_type": "stream",
     "text": [
      "Train: [      0       1       3 ... 1007146 1007147 1007148] Validation: [      2       4      25 ... 1007122 1007124 1007137]\n",
      "Train: [      0       1       2 ... 1007146 1007147 1007148] Validation: [      5      21      38 ... 1007071 1007075 1007100]\n",
      "Train: [      0       2       3 ... 1007145 1007147 1007148] Validation: [      1       7      10 ... 1007115 1007117 1007146]\n",
      "Train: [      0       1       2 ... 1007146 1007147 1007148] Validation: [     27      29      34 ... 1007086 1007088 1007133]\n",
      "Train: [      0       1       2 ... 1007145 1007146 1007147] Validation: [      9      11      14 ... 1007135 1007136 1007148]\n",
      "Train: [      1       2       3 ... 1007146 1007147 1007148] Validation: [      0      13      52 ... 1007108 1007129 1007144]\n",
      "Train: [      0       1       2 ... 1007146 1007147 1007148] Validation: [     23      28      82 ... 1007125 1007140 1007145]\n",
      "Train: [      0       1       2 ... 1007145 1007146 1007148] Validation: [     19      20      26 ... 1007134 1007143 1007147]\n",
      "Train: [      0       1       2 ... 1007146 1007147 1007148] Validation: [     16      30      66 ... 1007132 1007139 1007142]\n",
      "Train: [      0       1       2 ... 1007146 1007147 1007148] Validation: [      3       6       8 ... 1007131 1007138 1007141]\n",
      "Train: [      1       2       3 ... 1007145 1007147 1007148] Validation: [      0      21      28 ... 1007135 1007136 1007146]\n",
      "Train: [      0       1       2 ... 1007146 1007147 1007148] Validation: [      7      23      42 ... 1007131 1007132 1007139]\n",
      "Train: [      0       1       2 ... 1007146 1007147 1007148] Validation: [      3       8      24 ... 1007121 1007133 1007141]\n",
      "Train: [      0       1       2 ... 1007146 1007147 1007148] Validation: [      9      12      19 ... 1007134 1007138 1007140]\n",
      "Train: [      0       1       2 ... 1007146 1007147 1007148] Validation: [     10      26      31 ... 1007112 1007130 1007145]\n",
      "Train: [      0       1       2 ... 1007146 1007147 1007148] Validation: [      5      17      18 ... 1007085 1007101 1007123]\n",
      "Train: [      0       1       2 ... 1007145 1007146 1007148] Validation: [     25      38      46 ... 1007142 1007143 1007147]\n",
      "Train: [      0       1       2 ... 1007145 1007146 1007147] Validation: [      6      11      13 ... 1007124 1007128 1007148]\n",
      "Train: [      0       2       3 ... 1007146 1007147 1007148] Validation: [      1       4      14 ... 1007110 1007117 1007137]\n",
      "Train: [      0       1       3 ... 1007146 1007147 1007148] Validation: [      2      29      71 ... 1007119 1007120 1007144]\n",
      "Train: [      0       1       2 ... 1007146 1007147 1007148] Validation: [     10      35      41 ... 1007139 1007140 1007141]\n",
      "Train: [      0       1       2 ... 1007146 1007147 1007148] Validation: [      8      14      15 ... 1007128 1007131 1007138]\n",
      "Train: [      0       1       2 ... 1007145 1007147 1007148] Validation: [     25      34      36 ... 1007101 1007119 1007146]\n",
      "Train: [      0       1       2 ... 1007146 1007147 1007148] Validation: [     20      24      33 ... 1007114 1007117 1007144]\n",
      "Train: [      0       1       3 ... 1007146 1007147 1007148] Validation: [      2       7       9 ... 1007124 1007135 1007142]\n",
      "Train: [      1       2       3 ... 1007144 1007146 1007147] Validation: [      0       5      27 ... 1007143 1007145 1007148]\n",
      "Train: [      0       1       2 ... 1007145 1007146 1007148] Validation: [      4      23      28 ... 1007134 1007137 1007147]\n",
      "Train: [      0       1       2 ... 1007146 1007147 1007148] Validation: [     11      13      19 ... 1007104 1007109 1007133]\n",
      "Train: [      0       2       4 ... 1007146 1007147 1007148] Validation: [      1       3      12 ... 1007115 1007120 1007122]\n",
      "Train: [      0       1       2 ... 1007146 1007147 1007148] Validation: [      6      16      18 ... 1007108 1007129 1007136]\n",
      "Train: [      0       1       2 ... 1007146 1007147 1007148] Validation: [     28      44      45 ... 1007130 1007134 1007143]\n",
      "Train: [      0       1       2 ... 1007146 1007147 1007148] Validation: [      7      15      18 ... 1007136 1007141 1007145]\n",
      "Train: [      0       1       2 ... 1007146 1007147 1007148] Validation: [      4      14      23 ... 1007104 1007135 1007137]\n",
      "Train: [      0       1       2 ... 1007145 1007146 1007148] Validation: [     17      21      24 ... 1007132 1007142 1007147]\n",
      "Train: [      0       1       3 ... 1007146 1007147 1007148] Validation: [      2       6      34 ... 1007111 1007128 1007133]\n",
      "Train: [      0       2       3 ... 1007145 1007147 1007148] Validation: [      1       5      11 ... 1007127 1007129 1007146]\n",
      "Train: [      0       1       2 ... 1007146 1007147 1007148] Validation: [     32      54      59 ... 1007139 1007140 1007144]\n",
      "Train: [      0       1       2 ... 1007146 1007147 1007148] Validation: [      8      16      22 ... 1007123 1007124 1007125]\n",
      "Train: [      0       1       2 ... 1007145 1007146 1007147] Validation: [     13      36      38 ... 1007121 1007138 1007148]\n",
      "Train: [      1       2       4 ... 1007146 1007147 1007148] Validation: [      0       3       9 ... 1007070 1007080 1007106]\n",
      "Train: [      0       1       2 ... 1007146 1007147 1007148] Validation: [      9      18      19 ... 1007126 1007131 1007134]\n",
      "Train: [      0       1       2 ... 1007146 1007147 1007148] Validation: [      5      13      14 ... 1007082 1007093 1007097]\n",
      "Train: [      0       1       2 ... 1007146 1007147 1007148] Validation: [      8      22      30 ... 1007108 1007123 1007137]\n",
      "Train: [      0       1       2 ... 1007146 1007147 1007148] Validation: [      4       6       7 ... 1007140 1007143 1007145]\n",
      "Train: [      0       2       3 ... 1007144 1007145 1007146] Validation: [      1      12      31 ... 1007136 1007147 1007148]\n",
      "Train: [      0       1       2 ... 1007145 1007147 1007148] Validation: [     10      11      16 ... 1007121 1007144 1007146]\n",
      "Train: [      0       1       2 ... 1007146 1007147 1007148] Validation: [      3      15      38 ... 1007124 1007139 1007142]\n",
      "Train: [      0       1       2 ... 1007146 1007147 1007148] Validation: [     17      32      33 ... 1007110 1007111 1007141]\n",
      "Train: [      1       3       4 ... 1007146 1007147 1007148] Validation: [      0       2      23 ... 1007133 1007135 1007138]\n",
      "Train: [      0       1       2 ... 1007146 1007147 1007148] Validation: [     26      40      46 ... 1007059 1007089 1007122]\n"
     ]
    }
   ],
   "source": [
    "kf = RepeatedKFold(n_splits=10, n_repeats=5, random_state=None) \n",
    "\n",
    "for train_index, test_index in kf.split(X_train):\n",
    "      print(\"Train:\", train_index, \"Validation:\",test_index)\n",
    "      x_train, x_test = X_train[train_index], X_train[test_index] \n",
    "      Y_train, Y_test = y_train[train_index], y_train[test_index]"
   ]
  },
  {
   "cell_type": "code",
   "execution_count": 21,
   "id": "a9958826",
   "metadata": {},
   "outputs": [
    {
     "name": "stdout",
     "output_type": "stream",
     "text": [
      "[ 100715  100716  100717 ... 1007146 1007147 1007148] [     0      1      2 ... 100712 100713 100714]\n",
      "[      0       1       2 ... 1007146 1007147 1007148] [100715 100716 100717 ... 201427 201428 201429]\n",
      "[      0       1       2 ... 1007146 1007147 1007148] [201430 201431 201432 ... 302142 302143 302144]\n",
      "[      0       1       2 ... 1007146 1007147 1007148] [302145 302146 302147 ... 402857 402858 402859]\n",
      "[      0       1       2 ... 1007146 1007147 1007148] [402860 402861 402862 ... 503572 503573 503574]\n",
      "[      0       1       2 ... 1007146 1007147 1007148] [503575 503576 503577 ... 604287 604288 604289]\n",
      "[      0       1       2 ... 1007146 1007147 1007148] [604290 604291 604292 ... 705002 705003 705004]\n",
      "[      0       1       2 ... 1007146 1007147 1007148] [705005 705006 705007 ... 805717 805718 805719]\n",
      "[      0       1       2 ... 1007146 1007147 1007148] [805720 805721 805722 ... 906432 906433 906434]\n",
      "[     0      1      2 ... 906432 906433 906434] [ 906435  906436  906437 ... 1007146 1007147 1007148]\n"
     ]
    }
   ],
   "source": [
    "kf = KFold(n_splits=10)\n",
    "for train, test in kf.split(X_train):\n",
    "    print(\"%s %s\" % (train, test))"
   ]
  },
  {
   "cell_type": "code",
   "execution_count": null,
   "id": "e2bdc4e7",
   "metadata": {},
   "outputs": [],
   "source": []
  }
 ],
 "metadata": {
  "kernelspec": {
   "display_name": "Python 3 (ipykernel)",
   "language": "python",
   "name": "python3"
  },
  "language_info": {
   "codemirror_mode": {
    "name": "ipython",
    "version": 3
   },
   "file_extension": ".py",
   "mimetype": "text/x-python",
   "name": "python",
   "nbconvert_exporter": "python",
   "pygments_lexer": "ipython3",
   "version": "3.9.10"
  }
 },
 "nbformat": 4,
 "nbformat_minor": 5
}
