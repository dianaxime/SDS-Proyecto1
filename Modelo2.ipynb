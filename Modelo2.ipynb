{
 "cells": [
  {
   "cell_type": "markdown",
   "metadata": {},
   "source": [
    "# Multi-Label Classification\n",
    "### Random Forest Classifier"
   ]
  },
  {
   "cell_type": "code",
   "execution_count": 1,
   "metadata": {},
   "outputs": [],
   "source": [
    "import pandas as pd\n",
    "import numpy as np\n",
    "import matplotlib.pyplot as plt\n",
    "import seaborn as sns\n",
    "%matplotlib inline\n",
    "\n",
    "from imblearn.over_sampling import SMOTE\n",
    "from sklearn.model_selection import train_test_split\n",
    "\n",
    "import sklearn\n",
    "from sklearn import metrics, model_selection, tree\n",
    "from sklearn.preprocessing import MinMaxScaler"
   ]
  },
  {
   "cell_type": "markdown",
   "metadata": {},
   "source": [
    "#### Carga de data sets\n",
    "https://scikit-learn.org/stable/modules/generated/sklearn.ensemble.RandomForestClassifier.html\n",
    "https://www.analyticsvidhya.com/blog/2017/08/introduction-to-multi-label-classification/"
   ]
  },
  {
   "cell_type": "code",
   "execution_count": 2,
   "metadata": {},
   "outputs": [],
   "source": [
    "# Train data\n",
    "X_train = pd.read_csv('x_train_smote_undersample.csv').to_numpy()\n",
    "y_train = pd.read_csv('y_train_smote_undersample.csv')\n",
    "y_train = y_train['LABEL']\n",
    "\n",
    "# Test data\n",
    "X_test = pd.read_csv('x_test_smote_undersample.csv').to_numpy()\n",
    "y_test = pd.read_csv('y_test_smote_undersample.csv')\n",
    "y_test = y_test['LABEL']\n",
    "\n",
    "# Validation data\n",
    "X_validation = pd.read_csv('x_validation_smote_undersample.csv').to_numpy()\n",
    "y_validation = pd.read_csv('y_validation_smote_undersample.csv')\n",
    "y_validation = y_validation['LABEL']"
   ]
  },
  {
   "cell_type": "code",
   "execution_count": 3,
   "metadata": {},
   "outputs": [],
   "source": [
    "from sklearn.ensemble import RandomForestClassifier"
   ]
  },
  {
   "cell_type": "code",
   "execution_count": 4,
   "metadata": {},
   "outputs": [],
   "source": [
    "clf = RandomForestClassifier(max_depth=3, random_state=6, n_jobs=10, n_estimators=100)"
   ]
  },
  {
   "cell_type": "code",
   "execution_count": 5,
   "metadata": {},
   "outputs": [
    {
     "data": {
      "text/plain": [
       "RandomForestClassifier(max_depth=3, n_jobs=10, random_state=6)"
      ]
     },
     "execution_count": 5,
     "metadata": {},
     "output_type": "execute_result"
    }
   ],
   "source": [
    "clf.fit(X_train, y_train)"
   ]
  },
  {
   "cell_type": "code",
   "execution_count": 6,
   "metadata": {},
   "outputs": [],
   "source": [
    "predictions = clf.predict(X_test)"
   ]
  },
  {
   "cell_type": "code",
   "execution_count": 7,
   "metadata": {},
   "outputs": [
    {
     "data": {
      "text/plain": [
       "0.9889548994747328"
      ]
     },
     "execution_count": 7,
     "metadata": {},
     "output_type": "execute_result"
    }
   ],
   "source": [
    "clf.score(X_test, y_test)"
   ]
  },
  {
   "cell_type": "code",
   "execution_count": 8,
   "metadata": {},
   "outputs": [
    {
     "name": "stdout",
     "output_type": "stream",
     "text": [
      "0.9889548994747328\n",
      "Matriz de confusion Random Forest Classifier\n",
      " [[293060   1507   2051     11]\n",
      " [   107 112712      0      0]\n",
      " [     1      0 103439      0]\n",
      " [     0      0   2421  36791]]\n",
      "              precision    recall  f1-score   support\n",
      "\n",
      "           0       1.00      0.99      0.99    296629\n",
      "           1       0.99      1.00      0.99    112819\n",
      "           2       0.96      1.00      0.98    103440\n",
      "           3       1.00      0.94      0.97     39212\n",
      "\n",
      "    accuracy                           0.99    552100\n",
      "   macro avg       0.99      0.98      0.98    552100\n",
      "weighted avg       0.99      0.99      0.99    552100\n",
      "\n"
     ]
    }
   ],
   "source": [
    "print(metrics.accuracy_score(y_test, predictions))\n",
    "print('Matriz de confusion Random Forest Classifier\\n', metrics.confusion_matrix(y_test, predictions))\n",
    "print(metrics.classification_report(y_test, predictions, target_names=['0', '1', '2', '3']))"
   ]
  },
  {
   "cell_type": "code",
   "execution_count": 10,
   "metadata": {},
   "outputs": [],
   "source": [
    "import joblib"
   ]
  },
  {
   "cell_type": "code",
   "execution_count": 11,
   "metadata": {},
   "outputs": [
    {
     "data": {
      "text/plain": [
       "['modelo2.h5']"
      ]
     },
     "execution_count": 11,
     "metadata": {},
     "output_type": "execute_result"
    }
   ],
   "source": [
    "joblib.dump(clf, 'modelo2.h5')"
   ]
  },
  {
   "cell_type": "markdown",
   "metadata": {},
   "source": [
    "## Grafica ROC\n",
    "Extraído de: https://laurenliz22.github.io/roc_curve_multiclass_predictions_random_forest_classifier"
   ]
  },
  {
   "cell_type": "code",
   "execution_count": 21,
   "metadata": {},
   "outputs": [],
   "source": [
    "#Calculate the y_score\n",
    "y_score = clf.predict_proba(X_test)"
   ]
  },
  {
   "cell_type": "code",
   "execution_count": 23,
   "metadata": {},
   "outputs": [],
   "source": [
    "#Binarize the output\n",
    "from sklearn.preprocessing import label_binarize\n",
    "y_test_bin = label_binarize(y_test, classes=[0, 1, 2, 3])\n",
    "n_classes = y_test_bin.shape[1]"
   ]
  },
  {
   "cell_type": "code",
   "execution_count": 32,
   "metadata": {},
   "outputs": [
    {
     "name": "stdout",
     "output_type": "stream",
     "text": [
      "AUC for Class 1: 0.9990258518076823\n",
      "AUC for Class 2: 0.9999434497518022\n",
      "AUC for Class 3: 0.9999912472886091\n",
      "AUC for Class 4: 0.9999953310477199\n"
     ]
    },
    {
     "data": {
      "image/png": "[encoded data removed]",
      "text/plain": [
       "<Figure size 432x288 with 1 Axes>"
      ]
     },
     "metadata": {
      "needs_background": "light"
     },
     "output_type": "display_data"
    }
   ],
   "source": [
    "from sklearn import metrics\n",
    "fpr = dict()\n",
    "tpr = dict()\n",
    "roc_auc = dict()\n",
    "\n",
    "for i in range(n_classes):\n",
    "  fpr[i], tpr[i], _ = roc_curve(y_test_bin[:, i], y_score[:, i])\n",
    "  plt.plot(fpr[i], tpr[i], lw=2, label='ROC curve %i' % (i))\n",
    "  print('AUC for Class {}: {}'.format(i+1, metrics.auc(fpr[i], tpr[i])))\n",
    "\n",
    "plt.plot([0, 1], [0, 1], color='navy', lw=2, linestyle='--')\n",
    "plt.xlim([0.0, 1.0])\n",
    "plt.ylim([0.0, 1.05])\n",
    "plt.legend(loc=\"best\")\n",
    "plt.grid(alpha=.4)\n",
    "plt.xlabel('False Positive Rate')\n",
    "plt.ylabel('True Positive Rate')\n",
    "plt.title('Receiver Operating Characteristic Curves')\n",
    "plt.show()"
   ]
  },
  {
   "cell_type": "markdown",
   "metadata": {},
   "source": [
    "## Cross Validation\n",
    "Fuente de consulta> https://machinelearningmastery.com/repeated-k-fold-cross-validation-with-python/"
   ]
  },
  {
   "cell_type": "code",
   "execution_count": 40,
   "metadata": {},
   "outputs": [],
   "source": [
    "from sklearn.model_selection import cross_val_score\n",
    "from sklearn.model_selection import RepeatedKFold\n",
    "from sklearn.model_selection import KFold\n",
    "from statistics import mean"
   ]
  },
  {
   "cell_type": "code",
   "execution_count": 36,
   "metadata": {},
   "outputs": [
    {
     "name": "stdout",
     "output_type": "stream",
     "text": [
      "[0.98897384 0.98879015 0.99002135 0.9888249  0.98982272]\n"
     ]
    }
   ],
   "source": [
    "rf_cv_score=cross_val_score(estimator=clf,X=X_train,y=y_train,cv=5)\n",
    "print(rf_cv_score)"
   ]
  },
  {
   "cell_type": "code",
   "execution_count": null,
   "metadata": {},
   "outputs": [],
   "source": [
    "# prepare the cross-validation procedure\n",
    "cv = KFold(n_splits=10, random_state=1, shuffle=True)\n",
    "# evaluate model\n",
    "scores = cross_val_score(clf, X_train, y_train, scoring='accuracy', cv=cv, n_jobs=-1)"
   ]
  },
  {
   "cell_type": "code",
   "execution_count": 44,
   "metadata": {},
   "outputs": [
    {
     "name": "stdout",
     "output_type": "stream",
     "text": [
      "Accuracy: 0.990 (0.002)\n"
     ]
    }
   ],
   "source": [
    "# report performance\n",
    "print('Accuracy: %.3f (%.3f)' % (np.mean(scores), np.std(scores)))"
   ]
  },
  {
   "cell_type": "code",
   "execution_count": 41,
   "metadata": {},
   "outputs": [
    {
     "name": "stdout",
     "output_type": "stream",
     "text": [
      "Train: [      0       1       4 ... 1007146 1007147 1007148] Validation: [      2       3      15 ... 1007105 1007116 1007143]\n",
      "Train: [      0       1       2 ... 1007145 1007146 1007148] Validation: [      5       7      12 ... 1007138 1007144 1007147]\n",
      "Train: [      0       1       2 ... 1007146 1007147 1007148] Validation: [      8      18      28 ... 1007134 1007135 1007141]\n",
      "Train: [      0       1       2 ... 1007146 1007147 1007148] Validation: [      9      10      30 ... 1007129 1007132 1007136]\n",
      "Train: [      2       3       4 ... 1007145 1007147 1007148] Validation: [      0       1      13 ... 1007114 1007133 1007146]\n",
      "Train: [      0       1       2 ... 1007146 1007147 1007148] Validation: [      6      11      20 ... 1007099 1007119 1007130]\n",
      "Train: [      0       1       2 ... 1007146 1007147 1007148] Validation: [     17      24      27 ... 1007125 1007137 1007145]\n",
      "Train: [      0       1       2 ... 1007146 1007147 1007148] Validation: [     43      63      66 ... 1007131 1007140 1007142]\n",
      "Train: [      0       1       2 ... 1007146 1007147 1007148] Validation: [      4      14      16 ... 1007102 1007108 1007120]\n",
      "Train: [      0       1       2 ... 1007145 1007146 1007147] Validation: [     21      23      25 ... 1007128 1007139 1007148]\n",
      "Train: [      0       1       2 ... 1007146 1007147 1007148] Validation: [     16      19      35 ... 1007117 1007128 1007144]\n",
      "Train: [      0       1       2 ... 1007146 1007147 1007148] Validation: [     12      13      34 ... 1007113 1007127 1007130]\n",
      "Train: [      0       1       2 ... 1007146 1007147 1007148] Validation: [      3      18      26 ... 1007118 1007129 1007135]\n",
      "Train: [      0       1       2 ... 1007146 1007147 1007148] Validation: [     15      17      27 ... 1007116 1007121 1007134]\n",
      "Train: [      0       1       2 ... 1007145 1007146 1007147] Validation: [     33      37      56 ... 1007133 1007136 1007148]\n",
      "Train: [      1       2       3 ... 1007146 1007147 1007148] Validation: [      0       6      11 ... 1007125 1007142 1007143]\n",
      "Train: [      0       1       2 ... 1007146 1007147 1007148] Validation: [      4      22      38 ... 1007132 1007137 1007139]\n",
      "Train: [      0       1       3 ... 1007145 1007147 1007148] Validation: [      2       8      10 ... 1007140 1007141 1007146]\n",
      "Train: [      0       1       2 ... 1007146 1007147 1007148] Validation: [      7      14      20 ... 1007101 1007111 1007145]\n",
      "Train: [      0       2       3 ... 1007145 1007146 1007148] Validation: [      1       5       9 ... 1007124 1007138 1007147]\n",
      "Train: [      2       3       5 ... 1007145 1007146 1007148] Validation: [      0       1       4 ... 1007125 1007141 1007147]\n",
      "Train: [      0       1       2 ... 1007146 1007147 1007148] Validation: [     16      25      33 ... 1007130 1007134 1007140]\n",
      "Train: [      0       1       3 ... 1007146 1007147 1007148] Validation: [      2       9      32 ... 1007126 1007135 1007139]\n",
      "Train: [      0       1       2 ... 1007146 1007147 1007148] Validation: [      5       8      31 ... 1007089 1007124 1007145]\n",
      "Train: [      0       1       2 ... 1007146 1007147 1007148] Validation: [      6      11      18 ... 1007127 1007128 1007133]\n",
      "Train: [      0       1       2 ... 1007145 1007146 1007147] Validation: [     10      17      20 ... 1007142 1007143 1007148]\n",
      "Train: [      0       1       2 ... 1007146 1007147 1007148] Validation: [     28      36      41 ... 1007122 1007129 1007137]\n",
      "Train: [      0       1       2 ... 1007145 1007147 1007148] Validation: [      3      27      30 ... 1007121 1007144 1007146]\n",
      "Train: [      0       1       2 ... 1007146 1007147 1007148] Validation: [     12      23      24 ... 1007098 1007131 1007132]\n",
      "Train: [      0       1       2 ... 1007146 1007147 1007148] Validation: [      7      15      26 ... 1007116 1007118 1007136]\n",
      "Train: [      0       1       2 ... 1007146 1007147 1007148] Validation: [     15      35      55 ... 1007117 1007133 1007144]\n",
      "Train: [      0       1       2 ... 1007146 1007147 1007148] Validation: [     25      40      41 ... 1007111 1007112 1007116]\n",
      "Train: [      0       1       2 ... 1007146 1007147 1007148] Validation: [      3      18      19 ... 1007123 1007125 1007142]\n",
      "Train: [      0       1       3 ... 1007146 1007147 1007148] Validation: [      2       5      20 ... 1007132 1007134 1007140]\n",
      "Train: [      0       1       2 ... 1007146 1007147 1007148] Validation: [      8       9      11 ... 1007056 1007103 1007143]\n",
      "Train: [      0       1       2 ... 1007146 1007147 1007148] Validation: [     10      13      27 ... 1007120 1007127 1007130]\n",
      "Train: [      2       3       4 ... 1007146 1007147 1007148] Validation: [      0       1      22 ... 1007096 1007106 1007135]\n",
      "Train: [      0       1       2 ... 1007146 1007147 1007148] Validation: [      4       6      12 ... 1007137 1007138 1007141]\n",
      "Train: [      0       1       2 ... 1007146 1007147 1007148] Validation: [     17      26      36 ... 1007114 1007118 1007129]\n",
      "Train: [      0       1       2 ... 1007142 1007143 1007144] Validation: [      7      23      29 ... 1007146 1007147 1007148]\n",
      "Train: [      0       1       2 ... 1007146 1007147 1007148] Validation: [      9      16      34 ... 1007098 1007100 1007143]\n",
      "Train: [      0       1       2 ... 1007146 1007147 1007148] Validation: [      4      29      32 ... 1007126 1007132 1007134]\n",
      "Train: [      1       2       3 ... 1007146 1007147 1007148] Validation: [      0      10      11 ... 1007092 1007093 1007117]\n",
      "Train: [      0       1       3 ... 1007146 1007147 1007148] Validation: [      2      15      31 ... 1007108 1007110 1007124]\n",
      "Train: [      0       1       2 ... 1007146 1007147 1007148] Validation: [     18      21      25 ... 1007133 1007138 1007139]\n",
      "Train: [      0       1       2 ... 1007145 1007146 1007147] Validation: [      3      26      36 ... 1007128 1007140 1007148]\n",
      "Train: [      0       1       2 ... 1007145 1007146 1007148] Validation: [     13      27      53 ... 1007141 1007144 1007147]\n",
      "Train: [      0       1       2 ... 1007146 1007147 1007148] Validation: [      5       8      24 ... 1007136 1007142 1007145]\n",
      "Train: [      0       1       2 ... 1007146 1007147 1007148] Validation: [      6      28      39 ... 1007094 1007107 1007125]\n",
      "Train: [      0       2       3 ... 1007145 1007147 1007148] Validation: [      1       7      12 ... 1007121 1007131 1007146]\n"
     ]
    }
   ],
   "source": [
    "kf = RepeatedKFold(n_splits=10, n_repeats=5, random_state=None) \n",
    "\n",
    "for train_index, test_index in kf.split(X_train):\n",
    "      print(\"Train:\", train_index, \"Validation:\",test_index)\n",
    "      x_train, x_test = X_train[train_index], X_train[test_index] \n",
    "      Y_train, Y_test = y_train[train_index], y_train[test_index]"
   ]
  },
  {
   "cell_type": "code",
   "execution_count": 42,
   "metadata": {},
   "outputs": [
    {
     "name": "stdout",
     "output_type": "stream",
     "text": [
      "[ 100715  100716  100717 ... 1007146 1007147 1007148] [     0      1      2 ... 100712 100713 100714]\n",
      "[      0       1       2 ... 1007146 1007147 1007148] [100715 100716 100717 ... 201427 201428 201429]\n",
      "[      0       1       2 ... 1007146 1007147 1007148] [201430 201431 201432 ... 302142 302143 302144]\n",
      "[      0       1       2 ... 1007146 1007147 1007148] [302145 302146 302147 ... 402857 402858 402859]\n",
      "[      0       1       2 ... 1007146 1007147 1007148] [402860 402861 402862 ... 503572 503573 503574]\n",
      "[      0       1       2 ... 1007146 1007147 1007148] [503575 503576 503577 ... 604287 604288 604289]\n",
      "[      0       1       2 ... 1007146 1007147 1007148] [604290 604291 604292 ... 705002 705003 705004]\n",
      "[      0       1       2 ... 1007146 1007147 1007148] [705005 705006 705007 ... 805717 805718 805719]\n",
      "[      0       1       2 ... 1007146 1007147 1007148] [805720 805721 805722 ... 906432 906433 906434]\n",
      "[     0      1      2 ... 906432 906433 906434] [ 906435  906436  906437 ... 1007146 1007147 1007148]\n"
     ]
    }
   ],
   "source": [
    "kf = KFold(n_splits=10)\n",
    "for train, test in kf.split(X_train):\n",
    "    print(\"%s %s\" % (train, test))"
   ]
  },
  {
   "cell_type": "code",
   "execution_count": null,
   "metadata": {},
   "outputs": [],
   "source": []
  }
 ],
 "metadata": {
  "kernelspec": {
   "display_name": "Python 3",
   "language": "python",
   "name": "python3"
  },
  "language_info": {
   "codemirror_mode": {
    "name": "ipython",
    "version": 3
   },
   "file_extension": ".py",
   "mimetype": "text/x-python",
   "name": "python",
   "nbconvert_exporter": "python",
   "pygments_lexer": "ipython3",
   "version": "3.8.1"
  }
 },
 "nbformat": 4,
 "nbformat_minor": 5
}
