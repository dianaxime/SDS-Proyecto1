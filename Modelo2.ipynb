{
 "cells": [
  {
   "cell_type": "markdown",
   "id": "f049e18a",
   "metadata": {},
   "source": [
    "# Multi-Label Classification\n",
    "### Random Forest Classifier"
   ]
  },
  {
   "cell_type": "code",
   "execution_count": 1,
   "id": "48988661",
   "metadata": {},
   "outputs": [],
   "source": [
    "import pandas as pd\n",
    "import numpy as np\n",
    "import matplotlib.pyplot as plt\n",
    "import seaborn as sns\n",
    "%matplotlib inline\n",
    "\n",
    "from imblearn.over_sampling import SMOTE\n",
    "from sklearn.model_selection import train_test_split\n",
    "\n",
    "import sklearn\n",
    "from sklearn import metrics, model_selection, tree\n",
    "from sklearn.preprocessing import MinMaxScaler"
   ]
  },
  {
   "cell_type": "markdown",
   "id": "18f673f6",
   "metadata": {},
   "source": [
    "#### Carga de data sets\n",
    "https://scikit-learn.org/stable/modules/generated/sklearn.ensemble.RandomForestClassifier.html\n",
    "https://www.analyticsvidhya.com/blog/2017/08/introduction-to-multi-label-classification/"
   ]
  },
  {
   "cell_type": "code",
   "execution_count": 2,
   "id": "9aa7e210",
   "metadata": {},
   "outputs": [],
   "source": [
    "# Train data\n",
    "X_train = pd.read_csv('x_train_smote_undersample.csv').to_numpy()\n",
    "y_train = pd.read_csv('y_train_smote_undersample.csv')\n",
    "y_train = y_train['LABEL']\n",
    "\n",
    "# Test data\n",
    "X_test = pd.read_csv('x_test_smote_undersample.csv').to_numpy()\n",
    "y_test = pd.read_csv('y_test_smote_undersample.csv')\n",
    "y_test = y_test['LABEL']\n",
    "\n",
    "# Validation data\n",
    "X_validation = pd.read_csv('x_validation_smote_undersample.csv').to_numpy()\n",
    "y_validation = pd.read_csv('y_validation_smote_undersample.csv')\n",
    "y_validation = y_validation['LABEL']"
   ]
  },
  {
   "cell_type": "code",
   "execution_count": 3,
   "id": "bc4d4ec3",
   "metadata": {},
   "outputs": [],
   "source": [
    "from sklearn.ensemble import RandomForestClassifier"
   ]
  },
  {
   "cell_type": "code",
   "execution_count": 4,
   "id": "5dc56c0c",
   "metadata": {},
   "outputs": [],
   "source": [
    "clf = RandomForestClassifier(max_depth=3, random_state=6, n_jobs=10, n_estimators=100)"
   ]
  },
  {
   "cell_type": "code",
   "execution_count": 5,
   "id": "5d9563e4",
   "metadata": {},
   "outputs": [
    {
     "data": {
      "text/plain": [
       "RandomForestClassifier(max_depth=3, n_jobs=10, random_state=6)"
      ]
     },
     "execution_count": 5,
     "metadata": {},
     "output_type": "execute_result"
    }
   ],
   "source": [
    "clf.fit(X_train, y_train)"
   ]
  },
  {
   "cell_type": "code",
   "execution_count": 6,
   "id": "ea3d7d20",
   "metadata": {},
   "outputs": [],
   "source": [
    "predictions = clf.predict(X_test)"
   ]
  },
  {
   "cell_type": "code",
   "execution_count": 7,
   "id": "35182281",
   "metadata": {},
   "outputs": [
    {
     "data": {
      "text/plain": [
       "0.9889548994747328"
      ]
     },
     "execution_count": 7,
     "metadata": {},
     "output_type": "execute_result"
    }
   ],
   "source": [
    "clf.score(X_test, y_test)"
   ]
  },
  {
   "cell_type": "code",
   "execution_count": 8,
   "id": "d9c0eaf2",
   "metadata": {},
   "outputs": [
    {
     "name": "stdout",
     "output_type": "stream",
     "text": [
      "0.9889548994747328\n",
      "Matriz de confusion Random Forest Classifier\n",
      " [[293060   1507   2051     11]\n",
      " [   107 112712      0      0]\n",
      " [     1      0 103439      0]\n",
      " [     0      0   2421  36791]]\n",
      "              precision    recall  f1-score   support\n",
      "\n",
      "           0       1.00      0.99      0.99    296629\n",
      "           1       0.99      1.00      0.99    112819\n",
      "           2       0.96      1.00      0.98    103440\n",
      "           3       1.00      0.94      0.97     39212\n",
      "\n",
      "    accuracy                           0.99    552100\n",
      "   macro avg       0.99      0.98      0.98    552100\n",
      "weighted avg       0.99      0.99      0.99    552100\n",
      "\n"
     ]
    }
   ],
   "source": [
    "print(metrics.accuracy_score(y_test, predictions))\n",
    "print('Matriz de confusion Random Forest Classifier\\n', metrics.confusion_matrix(y_test, predictions))\n",
    "print(metrics.classification_report(y_test, predictions, target_names=['0', '1', '2', '3']))"
   ]
  },
  {
   "cell_type": "code",
   "execution_count": 9,
   "id": "e47bb91f",
   "metadata": {},
   "outputs": [],
   "source": [
    "#metrics.plot_roc_curve(clf, X_test, y_test)\n",
    "#plt.show()"
   ]
  },
  {
   "cell_type": "code",
   "execution_count": 10,
   "id": "1c42fe2e",
   "metadata": {},
   "outputs": [],
   "source": [
    "import joblib"
   ]
  },
  {
   "cell_type": "code",
   "execution_count": 11,
   "id": "ff805dcd",
   "metadata": {},
   "outputs": [
    {
     "data": {
      "text/plain": [
       "['modelo2.h5']"
      ]
     },
     "execution_count": 11,
     "metadata": {},
     "output_type": "execute_result"
    }
   ],
   "source": [
    "joblib.dump(clf, 'modelo2.h5')"
   ]
  },
  {
   "cell_type": "code",
   "execution_count": null,
   "id": "87b53c3e",
   "metadata": {},
   "outputs": [],
   "source": []
  }
 ],
 "metadata": {
  "kernelspec": {
   "display_name": "Python 3 (ipykernel)",
   "language": "python",
   "name": "python3"
  },
  "language_info": {
   "codemirror_mode": {
    "name": "ipython",
    "version": 3
   },
   "file_extension": ".py",
   "mimetype": "text/x-python",
   "name": "python",
   "nbconvert_exporter": "python",
   "pygments_lexer": "ipython3",
   "version": "3.9.10"
  }
 },
 "nbformat": 4,
 "nbformat_minor": 5
}
