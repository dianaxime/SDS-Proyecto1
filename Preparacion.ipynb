{
 "cells": [
  {
   "cell_type": "code",
   "execution_count": 1,
   "id": "beee56c6",
   "metadata": {},
   "outputs": [],
   "source": [
    "import pandas as pd\n",
    "import numpy as np\n",
    "import matplotlib.pyplot as plt\n",
    "import seaborn as sns\n",
    "%matplotlib inline\n",
    "\n",
    "from imblearn.over_sampling import SMOTE\n",
    "from sklearn.model_selection import train_test_split\n",
    "\n",
    "import sklearn\n",
    "from sklearn import metrics, model_selection, tree\n",
    "from sklearn.preprocessing import MinMaxScaler"
   ]
  },
  {
   "cell_type": "code",
   "execution_count": 2,
   "id": "294492b8",
   "metadata": {},
   "outputs": [],
   "source": [
    "df = pd.read_csv('datafinal.csv')"
   ]
  },
  {
   "cell_type": "code",
   "execution_count": 3,
   "id": "9d20c52d",
   "metadata": {},
   "outputs": [
    {
     "data": {
      "text/plain": [
       "(12207873, 17)"
      ]
     },
     "execution_count": 3,
     "metadata": {},
     "output_type": "execute_result"
    }
   ],
   "source": [
    "df.shape"
   ]
  },
  {
   "cell_type": "code",
   "execution_count": 4,
   "id": "1bc2f3b5",
   "metadata": {},
   "outputs": [
    {
     "data": {
      "text/html": [
       "<div>\n",
       "<style scoped>\n",
       "    .dataframe tbody tr th:only-of-type {\n",
       "        vertical-align: middle;\n",
       "    }\n",
       "\n",
       "    .dataframe tbody tr th {\n",
       "        vertical-align: top;\n",
       "    }\n",
       "\n",
       "    .dataframe thead th {\n",
       "        text-align: right;\n",
       "    }\n",
       "</style>\n",
       "<table border=\"1\" class=\"dataframe\">\n",
       "  <thead>\n",
       "    <tr style=\"text-align: right;\">\n",
       "      <th></th>\n",
       "      <th>Unnamed: 0</th>\n",
       "      <th>FLOW_DURATION_MILLISECONDS</th>\n",
       "      <th>FLOW_END_MILLISECONDS</th>\n",
       "      <th>FLOW_START_MILLISECONDS</th>\n",
       "      <th>IN_BYTES</th>\n",
       "      <th>L4_DST_PORT</th>\n",
       "      <th>L4_SRC_PORT</th>\n",
       "      <th>OUT_BYTES</th>\n",
       "      <th>RETRANSMITTED_OUT_BYTES</th>\n",
       "      <th>TCP_WIN_MAX_IN</th>\n",
       "      <th>TCP_WIN_MAX_OUT</th>\n",
       "      <th>TCP_WIN_MIN_IN</th>\n",
       "      <th>TCP_WIN_MIN_OUT</th>\n",
       "      <th>TCP_WIN_MSS_IN</th>\n",
       "      <th>TCP_WIN_MSS_OUT</th>\n",
       "      <th>TOTAL_FLOWS_EXP</th>\n",
       "      <th>LABEL</th>\n",
       "    </tr>\n",
       "  </thead>\n",
       "  <tbody>\n",
       "    <tr>\n",
       "      <th>0</th>\n",
       "      <td>0</td>\n",
       "      <td>0</td>\n",
       "      <td>1616660040010</td>\n",
       "      <td>1616660040010</td>\n",
       "      <td>44</td>\n",
       "      <td>60541</td>\n",
       "      <td>22351</td>\n",
       "      <td>40</td>\n",
       "      <td>0</td>\n",
       "      <td>1024</td>\n",
       "      <td>0</td>\n",
       "      <td>1024</td>\n",
       "      <td>0</td>\n",
       "      <td>1460</td>\n",
       "      <td>0</td>\n",
       "      <td>2293398</td>\n",
       "      <td>0</td>\n",
       "    </tr>\n",
       "    <tr>\n",
       "      <th>1</th>\n",
       "      <td>1</td>\n",
       "      <td>0</td>\n",
       "      <td>1616660040068</td>\n",
       "      <td>1616660040068</td>\n",
       "      <td>68</td>\n",
       "      <td>0</td>\n",
       "      <td>0</td>\n",
       "      <td>0</td>\n",
       "      <td>0</td>\n",
       "      <td>0</td>\n",
       "      <td>0</td>\n",
       "      <td>0</td>\n",
       "      <td>0</td>\n",
       "      <td>0</td>\n",
       "      <td>0</td>\n",
       "      <td>2293400</td>\n",
       "      <td>0</td>\n",
       "    </tr>\n",
       "    <tr>\n",
       "      <th>2</th>\n",
       "      <td>2</td>\n",
       "      <td>44</td>\n",
       "      <td>1616660040114</td>\n",
       "      <td>1616660040070</td>\n",
       "      <td>189</td>\n",
       "      <td>24650</td>\n",
       "      <td>443</td>\n",
       "      <td>104</td>\n",
       "      <td>0</td>\n",
       "      <td>122</td>\n",
       "      <td>1634</td>\n",
       "      <td>122</td>\n",
       "      <td>1634</td>\n",
       "      <td>0</td>\n",
       "      <td>0</td>\n",
       "      <td>2293404</td>\n",
       "      <td>0</td>\n",
       "    </tr>\n",
       "    <tr>\n",
       "      <th>3</th>\n",
       "      <td>3</td>\n",
       "      <td>0</td>\n",
       "      <td>1616660040122</td>\n",
       "      <td>1616660040122</td>\n",
       "      <td>52</td>\n",
       "      <td>8728</td>\n",
       "      <td>61075</td>\n",
       "      <td>0</td>\n",
       "      <td>0</td>\n",
       "      <td>8192</td>\n",
       "      <td>0</td>\n",
       "      <td>8192</td>\n",
       "      <td>0</td>\n",
       "      <td>1440</td>\n",
       "      <td>0</td>\n",
       "      <td>2293407</td>\n",
       "      <td>0</td>\n",
       "    </tr>\n",
       "    <tr>\n",
       "      <th>4</th>\n",
       "      <td>4</td>\n",
       "      <td>1</td>\n",
       "      <td>1616660040184</td>\n",
       "      <td>1616660040183</td>\n",
       "      <td>189</td>\n",
       "      <td>443</td>\n",
       "      <td>39762</td>\n",
       "      <td>40</td>\n",
       "      <td>0</td>\n",
       "      <td>502</td>\n",
       "      <td>0</td>\n",
       "      <td>502</td>\n",
       "      <td>0</td>\n",
       "      <td>0</td>\n",
       "      <td>0</td>\n",
       "      <td>2293409</td>\n",
       "      <td>0</td>\n",
       "    </tr>\n",
       "  </tbody>\n",
       "</table>\n",
       "</div>"
      ],
      "text/plain": [
       "   Unnamed: 0  FLOW_DURATION_MILLISECONDS  FLOW_END_MILLISECONDS  \\\n",
       "0           0                           0          1616660040010   \n",
       "1           1                           0          1616660040068   \n",
       "2           2                          44          1616660040114   \n",
       "3           3                           0          1616660040122   \n",
       "4           4                           1          1616660040184   \n",
       "\n",
       "   FLOW_START_MILLISECONDS  IN_BYTES  L4_DST_PORT  L4_SRC_PORT  OUT_BYTES  \\\n",
       "0            1616660040010        44        60541        22351         40   \n",
       "1            1616660040068        68            0            0          0   \n",
       "2            1616660040070       189        24650          443        104   \n",
       "3            1616660040122        52         8728        61075          0   \n",
       "4            1616660040183       189          443        39762         40   \n",
       "\n",
       "   RETRANSMITTED_OUT_BYTES  TCP_WIN_MAX_IN  TCP_WIN_MAX_OUT  TCP_WIN_MIN_IN  \\\n",
       "0                        0            1024                0            1024   \n",
       "1                        0               0                0               0   \n",
       "2                        0             122             1634             122   \n",
       "3                        0            8192                0            8192   \n",
       "4                        0             502                0             502   \n",
       "\n",
       "   TCP_WIN_MIN_OUT  TCP_WIN_MSS_IN  TCP_WIN_MSS_OUT  TOTAL_FLOWS_EXP  LABEL  \n",
       "0                0            1460                0          2293398      0  \n",
       "1                0               0                0          2293400      0  \n",
       "2             1634               0                0          2293404      0  \n",
       "3                0            1440                0          2293407      0  \n",
       "4                0               0                0          2293409      0  "
      ]
     },
     "execution_count": 4,
     "metadata": {},
     "output_type": "execute_result"
    }
   ],
   "source": [
    "df.head()"
   ]
  },
  {
   "cell_type": "code",
   "execution_count": 5,
   "id": "5b1bfc21",
   "metadata": {},
   "outputs": [
    {
     "name": "stdout",
     "output_type": "stream",
     "text": [
      "<class 'pandas.core.frame.DataFrame'>\n",
      "RangeIndex: 12207873 entries, 0 to 12207872\n",
      "Data columns (total 17 columns):\n",
      " #   Column                      Dtype\n",
      "---  ------                      -----\n",
      " 0   Unnamed: 0                  int64\n",
      " 1   FLOW_DURATION_MILLISECONDS  int64\n",
      " 2   FLOW_END_MILLISECONDS       int64\n",
      " 3   FLOW_START_MILLISECONDS     int64\n",
      " 4   IN_BYTES                    int64\n",
      " 5   L4_DST_PORT                 int64\n",
      " 6   L4_SRC_PORT                 int64\n",
      " 7   OUT_BYTES                   int64\n",
      " 8   RETRANSMITTED_OUT_BYTES     int64\n",
      " 9   TCP_WIN_MAX_IN              int64\n",
      " 10  TCP_WIN_MAX_OUT             int64\n",
      " 11  TCP_WIN_MIN_IN              int64\n",
      " 12  TCP_WIN_MIN_OUT             int64\n",
      " 13  TCP_WIN_MSS_IN              int64\n",
      " 14  TCP_WIN_MSS_OUT             int64\n",
      " 15  TOTAL_FLOWS_EXP             int64\n",
      " 16  LABEL                       int64\n",
      "dtypes: int64(17)\n",
      "memory usage: 1.5 GB\n"
     ]
    }
   ],
   "source": [
    "df.info()"
   ]
  },
  {
   "cell_type": "code",
   "execution_count": 6,
   "id": "d724fdb4",
   "metadata": {},
   "outputs": [],
   "source": [
    "df['LABEL'] = df['LABEL'].astype('category')"
   ]
  },
  {
   "cell_type": "code",
   "execution_count": 7,
   "id": "cf954ca6",
   "metadata": {},
   "outputs": [
    {
     "data": {
      "text/plain": [
       "Unnamed: 0                       int64\n",
       "FLOW_DURATION_MILLISECONDS       int64\n",
       "FLOW_END_MILLISECONDS            int64\n",
       "FLOW_START_MILLISECONDS          int64\n",
       "IN_BYTES                         int64\n",
       "L4_DST_PORT                      int64\n",
       "L4_SRC_PORT                      int64\n",
       "OUT_BYTES                        int64\n",
       "RETRANSMITTED_OUT_BYTES          int64\n",
       "TCP_WIN_MAX_IN                   int64\n",
       "TCP_WIN_MAX_OUT                  int64\n",
       "TCP_WIN_MIN_IN                   int64\n",
       "TCP_WIN_MIN_OUT                  int64\n",
       "TCP_WIN_MSS_IN                   int64\n",
       "TCP_WIN_MSS_OUT                  int64\n",
       "TOTAL_FLOWS_EXP                  int64\n",
       "LABEL                         category\n",
       "dtype: object"
      ]
     },
     "execution_count": 7,
     "metadata": {},
     "output_type": "execute_result"
    }
   ],
   "source": [
    "df.dtypes"
   ]
  },
  {
   "cell_type": "code",
   "execution_count": 8,
   "id": "ba1a5838",
   "metadata": {},
   "outputs": [],
   "source": [
    "samples = []\n",
    "df = sklearn.utils.shuffle(df)\n",
    "df_split = np.array_split(df, 10)\n",
    "\n",
    "for chunk in df_split:\n",
    "    chunk = chunk.sample(frac =.12, random_state = 33, replace=True)\n",
    "        \n",
    "    samples.append(chunk)"
   ]
  },
  {
   "cell_type": "code",
   "execution_count": 9,
   "id": "0af547fc",
   "metadata": {},
   "outputs": [],
   "source": [
    "df_sample = pd.concat(samples)"
   ]
  },
  {
   "cell_type": "code",
   "execution_count": 10,
   "id": "77c67d27",
   "metadata": {},
   "outputs": [
    {
     "name": "stdout",
     "output_type": "stream",
     "text": [
      "Before, counts of label '3': 104363\n",
      "Before, counts of label '2': 272403\n",
      "Before, counts of label '1': 299791\n",
      "Before, counts of label '0': 788386 \n",
      "\n",
      "After, counts of label '3': 788386\n",
      "After, counts of label '2': 788386\n",
      "After, counts of label '1': 788386\n",
      "After, counts of label '0': 788386\n"
     ]
    }
   ],
   "source": [
    "sm = SMOTE(random_state=2, n_jobs=8)\n",
    "X = df_sample.drop(['LABEL'], axis=1)\n",
    "y = df_sample['LABEL']\n",
    "\n",
    "print(\"Before, counts of label '3': {}\".format(sum(y == 3)))\n",
    "print(\"Before, counts of label '2': {}\".format(sum(y == 2)))\n",
    "print(\"Before, counts of label '1': {}\".format(sum(y == 1)))\n",
    "print(\"Before, counts of label '0': {} \\n\".format(sum(y == 0)))\n",
    "\n",
    "X_balanced, y_balanced = sm.fit_resample(X, y.ravel())\n",
    "\n",
    "print(\"After, counts of label '3': {}\".format(sum(y_balanced == 3)))\n",
    "print(\"After, counts of label '2': {}\".format(sum(y_balanced == 2)))\n",
    "print(\"After, counts of label '1': {}\".format(sum(y_balanced == 1)))\n",
    "print(\"After, counts of label '0': {}\".format(sum(y_balanced == 0)))"
   ]
  },
  {
   "cell_type": "code",
   "execution_count": 11,
   "id": "65e1ca0c",
   "metadata": {},
   "outputs": [],
   "source": [
    "X_train, X_test_total, y_train, y_test_total = model_selection.train_test_split(X, y, test_size=0.45, random_state=31)\n",
    "\n",
    "X_test, X_validation, y_test, y_validation = model_selection.train_test_split(X_test_total, y_test_total, test_size=0.33, random_state=31)"
   ]
  },
  {
   "cell_type": "code",
   "execution_count": 12,
   "id": "5b34507f",
   "metadata": {},
   "outputs": [],
   "source": [
    "scaler = MinMaxScaler()"
   ]
  },
  {
   "cell_type": "code",
   "execution_count": 13,
   "id": "8a078b0a",
   "metadata": {},
   "outputs": [],
   "source": [
    "X_train = scaler.fit_transform(X_train)"
   ]
  },
  {
   "cell_type": "code",
   "execution_count": 14,
   "id": "04ce4c5e",
   "metadata": {},
   "outputs": [],
   "source": [
    "X_test = scaler.transform(X_test)"
   ]
  },
  {
   "cell_type": "code",
   "execution_count": 15,
   "id": "5b696e92",
   "metadata": {},
   "outputs": [],
   "source": [
    "X_validation = scaler.transform(X_validation)"
   ]
  },
  {
   "cell_type": "code",
   "execution_count": 16,
   "id": "33c04a2b",
   "metadata": {},
   "outputs": [],
   "source": [
    "from sklearn.ensemble import GradientBoostingClassifier"
   ]
  },
  {
   "cell_type": "code",
   "execution_count": 17,
   "id": "dd5f129f",
   "metadata": {},
   "outputs": [],
   "source": [
    "clf = GradientBoostingClassifier(n_estimators=100, learning_rate=1.0, max_depth=1, random_state=7)"
   ]
  },
  {
   "cell_type": "code",
   "execution_count": 18,
   "id": "62b14dc4",
   "metadata": {},
   "outputs": [
    {
     "data": {
      "text/plain": [
       "GradientBoostingClassifier(learning_rate=1.0, max_depth=1, random_state=7)"
      ]
     },
     "execution_count": 18,
     "metadata": {},
     "output_type": "execute_result"
    }
   ],
   "source": [
    "clf.fit(X_train, y_train)"
   ]
  },
  {
   "cell_type": "code",
   "execution_count": 19,
   "id": "0d49f1d1",
   "metadata": {},
   "outputs": [
    {
     "data": {
      "text/plain": [
       "0.8862456982430719"
      ]
     },
     "execution_count": 19,
     "metadata": {},
     "output_type": "execute_result"
    }
   ],
   "source": [
    "clf.score(X_test, y_test)"
   ]
  },
  {
   "cell_type": "code",
   "execution_count": 21,
   "id": "2bcf2980",
   "metadata": {},
   "outputs": [],
   "source": [
    "pred = clf.predict(X_test)"
   ]
  },
  {
   "cell_type": "code",
   "execution_count": 22,
   "id": "671359b1",
   "metadata": {},
   "outputs": [
    {
     "name": "stdout",
     "output_type": "stream",
     "text": [
      "0.8862456982430719\n",
      "Matriz de confusion [[221865    143   3906  12076]\n",
      " [    20  90568      0     58]\n",
      " [  4750      0  47742  29290]\n",
      " [     0      0      0  31262]]\n",
      "              precision    recall  f1-score   support\n",
      "\n",
      "           0       0.98      0.93      0.96    237990\n",
      "           1       1.00      1.00      1.00     90646\n",
      "           2       0.92      0.58      0.72     81782\n",
      "           3       0.43      1.00      0.60     31262\n",
      "\n",
      "    accuracy                           0.89    441680\n",
      "   macro avg       0.83      0.88      0.82    441680\n",
      "weighted avg       0.93      0.89      0.89    441680\n",
      "\n"
     ]
    }
   ],
   "source": [
    "print(metrics.accuracy_score(y_test, pred))\n",
    "print('Matriz de confusion', metrics.confusion_matrix(y_test, pred))\n",
    "print(metrics.classification_report(y_test, pred, target_names=['0', '1', '2', '3']))"
   ]
  },
  {
   "cell_type": "code",
   "execution_count": 24,
   "id": "df87e2ae",
   "metadata": {},
   "outputs": [],
   "source": [
    "# metrics.plot_roc_curve(clf, X_test, y_test)\n",
    "# plt.show()"
   ]
  },
  {
   "cell_type": "code",
   "execution_count": 26,
   "id": "b18954d4",
   "metadata": {},
   "outputs": [],
   "source": [
    "pd.DataFrame(X_train).to_csv(\"x_train_smote_oversample.csv\")\n",
    "pd.DataFrame(y_train).to_csv(\"y_train_smote_oversample.csv\")"
   ]
  },
  {
   "cell_type": "code",
   "execution_count": 28,
   "id": "9b0b3796",
   "metadata": {},
   "outputs": [],
   "source": [
    "pd.DataFrame(X_test).to_csv(\"x_test_smote_oversample.csv\")\n",
    "pd.DataFrame(y_test).to_csv(\"y_test_smote_oversample.csv\")"
   ]
  },
  {
   "cell_type": "code",
   "execution_count": 29,
   "id": "2902163f",
   "metadata": {},
   "outputs": [],
   "source": [
    "pd.DataFrame(X_validation).to_csv(\"x_validation_smote_oversample.csv\")\n",
    "pd.DataFrame(y_validation).to_csv(\"y_validation_smote_oversample.csv\")"
   ]
  },
  {
   "cell_type": "code",
   "execution_count": 30,
   "id": "54bf7940",
   "metadata": {},
   "outputs": [
    {
     "data": {
      "text/plain": [
       "['escalador.pkl']"
      ]
     },
     "execution_count": 30,
     "metadata": {},
     "output_type": "execute_result"
    }
   ],
   "source": [
    "import joblib\n",
    "joblib.dump(scaler,'escalador.pkl')"
   ]
  },
  {
   "cell_type": "code",
   "execution_count": 31,
   "id": "e87dd558",
   "metadata": {},
   "outputs": [
    {
     "data": {
      "text/plain": [
       "['modelo1.h5']"
      ]
     },
     "execution_count": 31,
     "metadata": {},
     "output_type": "execute_result"
    }
   ],
   "source": [
    "joblib.dump(clf, 'modelo1.h5')"
   ]
  },
  {
   "cell_type": "code",
   "execution_count": null,
   "id": "dbf0d560",
   "metadata": {},
   "outputs": [],
   "source": []
  }
 ],
 "metadata": {
  "kernelspec": {
   "display_name": "Python 3 (ipykernel)",
   "language": "python",
   "name": "python3"
  },
  "language_info": {
   "codemirror_mode": {
    "name": "ipython",
    "version": 3
   },
   "file_extension": ".py",
   "mimetype": "text/x-python",
   "name": "python",
   "nbconvert_exporter": "python",
   "pygments_lexer": "ipython3",
   "version": "3.9.10"
  }
 },
 "nbformat": 4,
 "nbformat_minor": 5
}
