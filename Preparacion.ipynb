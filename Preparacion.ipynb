{
 "cells": [
  {
   "cell_type": "code",
   "execution_count": 1,
   "id": "eed18a53",
   "metadata": {},
   "outputs": [],
   "source": [
    "import pandas as pd\n",
    "import numpy as np\n",
    "import matplotlib.pyplot as plt\n",
    "import seaborn as sns\n",
    "%matplotlib inline\n",
    "\n",
    "from imblearn.over_sampling import SMOTE\n",
    "from imblearn.under_sampling import RandomUnderSampler\n",
    "from sklearn.model_selection import train_test_split\n",
    "\n",
    "import sklearn\n",
    "from sklearn import metrics, model_selection, tree\n",
    "from sklearn.preprocessing import MinMaxScaler\n",
    "import joblib\n",
    "from collections import Counter"
   ]
  },
  {
   "cell_type": "code",
   "execution_count": 2,
   "id": "becd4c1e",
   "metadata": {},
   "outputs": [],
   "source": [
    "df = pd.read_csv('datafinal.csv')"
   ]
  },
  {
   "cell_type": "code",
   "execution_count": 3,
   "id": "5d52e188",
   "metadata": {},
   "outputs": [
    {
     "data": {
      "text/plain": [
       "(12207873, 16)"
      ]
     },
     "execution_count": 3,
     "metadata": {},
     "output_type": "execute_result"
    }
   ],
   "source": [
    "df.shape"
   ]
  },
  {
   "cell_type": "code",
   "execution_count": 4,
   "id": "2f295cf1",
   "metadata": {},
   "outputs": [
    {
     "data": {
      "text/html": [
       "<div>\n",
       "<style scoped>\n",
       "    .dataframe tbody tr th:only-of-type {\n",
       "        vertical-align: middle;\n",
       "    }\n",
       "\n",
       "    .dataframe tbody tr th {\n",
       "        vertical-align: top;\n",
       "    }\n",
       "\n",
       "    .dataframe thead th {\n",
       "        text-align: right;\n",
       "    }\n",
       "</style>\n",
       "<table border=\"1\" class=\"dataframe\">\n",
       "  <thead>\n",
       "    <tr style=\"text-align: right;\">\n",
       "      <th></th>\n",
       "      <th>FLOW_DURATION_MILLISECONDS</th>\n",
       "      <th>FLOW_END_MILLISECONDS</th>\n",
       "      <th>FLOW_START_MILLISECONDS</th>\n",
       "      <th>IN_BYTES</th>\n",
       "      <th>L4_DST_PORT</th>\n",
       "      <th>L4_SRC_PORT</th>\n",
       "      <th>OUT_BYTES</th>\n",
       "      <th>RETRANSMITTED_OUT_BYTES</th>\n",
       "      <th>TCP_WIN_MAX_IN</th>\n",
       "      <th>TCP_WIN_MAX_OUT</th>\n",
       "      <th>TCP_WIN_MIN_IN</th>\n",
       "      <th>TCP_WIN_MIN_OUT</th>\n",
       "      <th>TCP_WIN_MSS_IN</th>\n",
       "      <th>TCP_WIN_MSS_OUT</th>\n",
       "      <th>TOTAL_FLOWS_EXP</th>\n",
       "      <th>LABEL</th>\n",
       "    </tr>\n",
       "  </thead>\n",
       "  <tbody>\n",
       "    <tr>\n",
       "      <th>0</th>\n",
       "      <td>0</td>\n",
       "      <td>1616660040010</td>\n",
       "      <td>1616660040010</td>\n",
       "      <td>44</td>\n",
       "      <td>60541</td>\n",
       "      <td>22351</td>\n",
       "      <td>40</td>\n",
       "      <td>0</td>\n",
       "      <td>1024</td>\n",
       "      <td>0</td>\n",
       "      <td>1024</td>\n",
       "      <td>0</td>\n",
       "      <td>1460</td>\n",
       "      <td>0</td>\n",
       "      <td>2293398</td>\n",
       "      <td>0</td>\n",
       "    </tr>\n",
       "    <tr>\n",
       "      <th>1</th>\n",
       "      <td>0</td>\n",
       "      <td>1616660040068</td>\n",
       "      <td>1616660040068</td>\n",
       "      <td>68</td>\n",
       "      <td>0</td>\n",
       "      <td>0</td>\n",
       "      <td>0</td>\n",
       "      <td>0</td>\n",
       "      <td>0</td>\n",
       "      <td>0</td>\n",
       "      <td>0</td>\n",
       "      <td>0</td>\n",
       "      <td>0</td>\n",
       "      <td>0</td>\n",
       "      <td>2293400</td>\n",
       "      <td>0</td>\n",
       "    </tr>\n",
       "    <tr>\n",
       "      <th>2</th>\n",
       "      <td>44</td>\n",
       "      <td>1616660040114</td>\n",
       "      <td>1616660040070</td>\n",
       "      <td>189</td>\n",
       "      <td>24650</td>\n",
       "      <td>443</td>\n",
       "      <td>104</td>\n",
       "      <td>0</td>\n",
       "      <td>122</td>\n",
       "      <td>1634</td>\n",
       "      <td>122</td>\n",
       "      <td>1634</td>\n",
       "      <td>0</td>\n",
       "      <td>0</td>\n",
       "      <td>2293404</td>\n",
       "      <td>0</td>\n",
       "    </tr>\n",
       "    <tr>\n",
       "      <th>3</th>\n",
       "      <td>0</td>\n",
       "      <td>1616660040122</td>\n",
       "      <td>1616660040122</td>\n",
       "      <td>52</td>\n",
       "      <td>8728</td>\n",
       "      <td>61075</td>\n",
       "      <td>0</td>\n",
       "      <td>0</td>\n",
       "      <td>8192</td>\n",
       "      <td>0</td>\n",
       "      <td>8192</td>\n",
       "      <td>0</td>\n",
       "      <td>1440</td>\n",
       "      <td>0</td>\n",
       "      <td>2293407</td>\n",
       "      <td>0</td>\n",
       "    </tr>\n",
       "    <tr>\n",
       "      <th>4</th>\n",
       "      <td>1</td>\n",
       "      <td>1616660040184</td>\n",
       "      <td>1616660040183</td>\n",
       "      <td>189</td>\n",
       "      <td>443</td>\n",
       "      <td>39762</td>\n",
       "      <td>40</td>\n",
       "      <td>0</td>\n",
       "      <td>502</td>\n",
       "      <td>0</td>\n",
       "      <td>502</td>\n",
       "      <td>0</td>\n",
       "      <td>0</td>\n",
       "      <td>0</td>\n",
       "      <td>2293409</td>\n",
       "      <td>0</td>\n",
       "    </tr>\n",
       "  </tbody>\n",
       "</table>\n",
       "</div>"
      ],
      "text/plain": [
       "   FLOW_DURATION_MILLISECONDS  FLOW_END_MILLISECONDS  FLOW_START_MILLISECONDS  \\\n",
       "0                           0          1616660040010            1616660040010   \n",
       "1                           0          1616660040068            1616660040068   \n",
       "2                          44          1616660040114            1616660040070   \n",
       "3                           0          1616660040122            1616660040122   \n",
       "4                           1          1616660040184            1616660040183   \n",
       "\n",
       "   IN_BYTES  L4_DST_PORT  L4_SRC_PORT  OUT_BYTES  RETRANSMITTED_OUT_BYTES  \\\n",
       "0        44        60541        22351         40                        0   \n",
       "1        68            0            0          0                        0   \n",
       "2       189        24650          443        104                        0   \n",
       "3        52         8728        61075          0                        0   \n",
       "4       189          443        39762         40                        0   \n",
       "\n",
       "   TCP_WIN_MAX_IN  TCP_WIN_MAX_OUT  TCP_WIN_MIN_IN  TCP_WIN_MIN_OUT  \\\n",
       "0            1024                0            1024                0   \n",
       "1               0                0               0                0   \n",
       "2             122             1634             122             1634   \n",
       "3            8192                0            8192                0   \n",
       "4             502                0             502                0   \n",
       "\n",
       "   TCP_WIN_MSS_IN  TCP_WIN_MSS_OUT  TOTAL_FLOWS_EXP  LABEL  \n",
       "0            1460                0          2293398      0  \n",
       "1               0                0          2293400      0  \n",
       "2               0                0          2293404      0  \n",
       "3            1440                0          2293407      0  \n",
       "4               0                0          2293409      0  "
      ]
     },
     "execution_count": 4,
     "metadata": {},
     "output_type": "execute_result"
    }
   ],
   "source": [
    "df.head()"
   ]
  },
  {
   "cell_type": "code",
   "execution_count": 5,
   "id": "915ad7cd",
   "metadata": {},
   "outputs": [
    {
     "name": "stdout",
     "output_type": "stream",
     "text": [
      "<class 'pandas.core.frame.DataFrame'>\n",
      "RangeIndex: 12207873 entries, 0 to 12207872\n",
      "Data columns (total 16 columns):\n",
      " #   Column                      Dtype\n",
      "---  ------                      -----\n",
      " 0   FLOW_DURATION_MILLISECONDS  int64\n",
      " 1   FLOW_END_MILLISECONDS       int64\n",
      " 2   FLOW_START_MILLISECONDS     int64\n",
      " 3   IN_BYTES                    int64\n",
      " 4   L4_DST_PORT                 int64\n",
      " 5   L4_SRC_PORT                 int64\n",
      " 6   OUT_BYTES                   int64\n",
      " 7   RETRANSMITTED_OUT_BYTES     int64\n",
      " 8   TCP_WIN_MAX_IN              int64\n",
      " 9   TCP_WIN_MAX_OUT             int64\n",
      " 10  TCP_WIN_MIN_IN              int64\n",
      " 11  TCP_WIN_MIN_OUT             int64\n",
      " 12  TCP_WIN_MSS_IN              int64\n",
      " 13  TCP_WIN_MSS_OUT             int64\n",
      " 14  TOTAL_FLOWS_EXP             int64\n",
      " 15  LABEL                       int64\n",
      "dtypes: int64(16)\n",
      "memory usage: 1.5 GB\n"
     ]
    }
   ],
   "source": [
    "df.info()"
   ]
  },
  {
   "cell_type": "code",
   "execution_count": 6,
   "id": "09c56498",
   "metadata": {},
   "outputs": [],
   "source": [
    "df['LABEL'] = df['LABEL'].astype('category')"
   ]
  },
  {
   "cell_type": "code",
   "execution_count": 7,
   "id": "3eeb4a26",
   "metadata": {},
   "outputs": [
    {
     "data": {
      "text/plain": [
       "FLOW_DURATION_MILLISECONDS       int64\n",
       "FLOW_END_MILLISECONDS            int64\n",
       "FLOW_START_MILLISECONDS          int64\n",
       "IN_BYTES                         int64\n",
       "L4_DST_PORT                      int64\n",
       "L4_SRC_PORT                      int64\n",
       "OUT_BYTES                        int64\n",
       "RETRANSMITTED_OUT_BYTES          int64\n",
       "TCP_WIN_MAX_IN                   int64\n",
       "TCP_WIN_MAX_OUT                  int64\n",
       "TCP_WIN_MIN_IN                   int64\n",
       "TCP_WIN_MIN_OUT                  int64\n",
       "TCP_WIN_MSS_IN                   int64\n",
       "TCP_WIN_MSS_OUT                  int64\n",
       "TOTAL_FLOWS_EXP                  int64\n",
       "LABEL                         category\n",
       "dtype: object"
      ]
     },
     "execution_count": 7,
     "metadata": {},
     "output_type": "execute_result"
    }
   ],
   "source": [
    "df.dtypes"
   ]
  },
  {
   "cell_type": "code",
   "execution_count": 8,
   "id": "f6ea906b",
   "metadata": {},
   "outputs": [],
   "source": [
    "samples = []\n",
    "df = sklearn.utils.shuffle(df)\n",
    "df_split = np.array_split(df, 10)\n",
    "\n",
    "for chunk in df_split:\n",
    "    # chunk = chunk.sample(frac =.12, random_state = 33, replace=True)\n",
    "    chunk = chunk.sample(frac =.15, random_state = 33, replace=True)\n",
    "        \n",
    "    samples.append(chunk)"
   ]
  },
  {
   "cell_type": "code",
   "execution_count": 9,
   "id": "98e260ec",
   "metadata": {},
   "outputs": [],
   "source": [
    "df_sample = pd.concat(samples)"
   ]
  },
  {
   "cell_type": "code",
   "execution_count": 10,
   "id": "6253e24f",
   "metadata": {},
   "outputs": [],
   "source": [
    "# sm = SMOTE(random_state=2, n_jobs=8)"
   ]
  },
  {
   "cell_type": "code",
   "execution_count": 11,
   "id": "7ad2a133",
   "metadata": {},
   "outputs": [],
   "source": [
    "X = df_sample.drop(['LABEL'], axis=1)\n",
    "y = df_sample['LABEL']"
   ]
  },
  {
   "cell_type": "code",
   "execution_count": 12,
   "id": "f2102fb2",
   "metadata": {},
   "outputs": [],
   "source": [
    "# print(\"Before, counts of label '3': {}\".format(sum(y == 3)))\n",
    "# print(\"Before, counts of label '2': {}\".format(sum(y == 2)))\n",
    "# print(\"Before, counts of label '1': {}\".format(sum(y == 1)))\n",
    "# print(\"Before, counts of label '0': {} \\n\".format(sum(y == 0)))\n",
    "# \n",
    "# X_balanced, y_balanced = sm.fit_resample(X, y.ravel())\n",
    "# \n",
    "# print(\"After, counts of label '3': {}\".format(sum(y_balanced == 3)))\n",
    "# print(\"After, counts of label '2': {}\".format(sum(y_balanced == 2)))\n",
    "# print(\"After, counts of label '1': {}\".format(sum(y_balanced == 1)))\n",
    "# print(\"After, counts of label '0': {}\".format(sum(y_balanced == 0)))"
   ]
  },
  {
   "cell_type": "code",
   "execution_count": 13,
   "id": "a234394d",
   "metadata": {},
   "outputs": [],
   "source": [
    "rus = RandomUnderSampler(random_state=42, replacement=True)# fit predictor and target variable"
   ]
  },
  {
   "cell_type": "code",
   "execution_count": 14,
   "id": "157c28f2",
   "metadata": {},
   "outputs": [],
   "source": [
    "X_balanced, y_balanced = rus.fit_resample(X, y)"
   ]
  },
  {
   "cell_type": "code",
   "execution_count": 15,
   "id": "c00486a2",
   "metadata": {},
   "outputs": [
    {
     "name": "stdout",
     "output_type": "stream",
     "text": [
      "Original dataset shape: Counter({0: 985366, 1: 373962, 2: 342428, 3: 129424})\n",
      "Resample dataset shape Counter({0: 129424, 1: 129424, 2: 129424, 3: 129424})\n"
     ]
    }
   ],
   "source": [
    "print('Original dataset shape:', Counter(y))\n",
    "print('Resample dataset shape', Counter(y_balanced))"
   ]
  },
  {
   "cell_type": "code",
   "execution_count": 16,
   "id": "623f26d9",
   "metadata": {},
   "outputs": [],
   "source": [
    "X_train, X_test_total, y_train, y_test_total = model_selection.train_test_split(X, y, test_size=0.45, random_state=31)\n",
    "\n",
    "X_test, X_validation, y_test, y_validation = model_selection.train_test_split(X_test_total, y_test_total, test_size=0.33, random_state=31)"
   ]
  },
  {
   "cell_type": "code",
   "execution_count": 17,
   "id": "596be10f",
   "metadata": {},
   "outputs": [],
   "source": [
    "scaler = MinMaxScaler()"
   ]
  },
  {
   "cell_type": "code",
   "execution_count": 18,
   "id": "dcf68e2a",
   "metadata": {},
   "outputs": [],
   "source": [
    "X_train = scaler.fit_transform(X_train)"
   ]
  },
  {
   "cell_type": "code",
   "execution_count": 19,
   "id": "dad61c5b",
   "metadata": {},
   "outputs": [],
   "source": [
    "X_test = scaler.transform(X_test)"
   ]
  },
  {
   "cell_type": "code",
   "execution_count": 20,
   "id": "942273a7",
   "metadata": {},
   "outputs": [],
   "source": [
    "X_validation = scaler.transform(X_validation)"
   ]
  },
  {
   "cell_type": "code",
   "execution_count": 21,
   "id": "43be2fd7",
   "metadata": {},
   "outputs": [],
   "source": [
    "# pd.DataFrame(X_train).to_csv('x_train_smote_oversample.csv', index = False)\n",
    "pd.DataFrame(X_train).to_csv('x_train_smote_undersample.csv', index = False)\n",
    "# pd.DataFrame(y_train).to_csv('y_train_smote_oversample.csv', index = False)\n",
    "pd.DataFrame(y_train).to_csv('y_train_smote_undersample.csv', index = False)"
   ]
  },
  {
   "cell_type": "code",
   "execution_count": 22,
   "id": "a3f2ef68",
   "metadata": {},
   "outputs": [],
   "source": [
    "# pd.DataFrame(X_test).to_csv('x_test_smote_oversample.csv', index = False)\n",
    "pd.DataFrame(X_test).to_csv('x_test_smote_undersample.csv', index = False)\n",
    "# pd.DataFrame(y_test).to_csv('y_test_smote_oversample.csv', index = False)\n",
    "pd.DataFrame(y_test).to_csv('y_test_smote_undersample.csv', index = False)"
   ]
  },
  {
   "cell_type": "code",
   "execution_count": 23,
   "id": "d71d344d",
   "metadata": {},
   "outputs": [],
   "source": [
    "# pd.DataFrame(X_validation).to_csv('x_validation_smote_oversample.csv', index = False)\n",
    "pd.DataFrame(X_validation).to_csv('x_validation_smote_undersample.csv', index = False)\n",
    "# pd.DataFrame(y_validation).to_csv('y_validation_smote_oversample.csv', index = False)\n",
    "pd.DataFrame(y_validation).to_csv('y_validation_smote_undersample.csv', index = False)"
   ]
  },
  {
   "cell_type": "code",
   "execution_count": 24,
   "id": "e1353756",
   "metadata": {},
   "outputs": [
    {
     "data": {
      "text/plain": [
       "['escalador.pkl']"
      ]
     },
     "execution_count": 24,
     "metadata": {},
     "output_type": "execute_result"
    }
   ],
   "source": [
    "joblib.dump(scaler,'escalador.pkl')"
   ]
  }
 ],
 "metadata": {
  "kernelspec": {
   "display_name": "Python 3 (ipykernel)",
   "language": "python",
   "name": "python3"
  },
  "language_info": {
   "codemirror_mode": {
    "name": "ipython",
    "version": 3
   },
   "file_extension": ".py",
   "mimetype": "text/x-python",
   "name": "python",
   "nbconvert_exporter": "python",
   "pygments_lexer": "ipython3",
   "version": "3.9.10"
  }
 },
 "nbformat": 4,
 "nbformat_minor": 5
}
